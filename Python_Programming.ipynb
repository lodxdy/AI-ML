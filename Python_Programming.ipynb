{
  "nbformat": 4,
  "nbformat_minor": 0,
  "metadata": {
    "colab": {
      "provenance": [],
      "include_colab_link": true
    },
    "kernelspec": {
      "name": "python3",
      "display_name": "Python 3"
    },
    "language_info": {
      "name": "python"
    }
  },
  "cells": [
    {
      "cell_type": "markdown",
      "metadata": {
        "id": "view-in-github",
        "colab_type": "text"
      },
      "source": [
        "<a href=\"https://colab.research.google.com/github/lodxdy/AI-ML/blob/main/Python_Programming.ipynb\" target=\"_parent\"><img src=\"https://colab.research.google.com/assets/colab-badge.svg\" alt=\"Open In Colab\"/></a>"
      ]
    },
    {
      "cell_type": "markdown",
      "source": [
        "# Python Programming"
      ],
      "metadata": {
        "id": "VE_WXV9xXcAq"
      }
    },
    {
      "cell_type": "markdown",
      "source": [
        "# Variables and constants\n",
        "\n",
        "- Used to “save” the problem data\n",
        "- Any data that can be changed over time must be treated as a variable\n",
        "- When there is no possibility to change data, it is treated as a constant\n",
        "\n",
        "Example: The equation for calculating the area of a triangle is BASE * HEIGHT / 2. **Base** and **height** are data that will change over the “runtime”. Number 2 is constant, as it will always be the same\n",
        "\n",
        "## Types of variables\n",
        "\n",
        "- Integers: positive or negative numbers (no fractional). Examples: 1, 30, 40, 12, -50\n",
        "- Float (real): positive or negative numbers (fractional - can also be integers). Examples: 1.4, 6.7, 10.3, 100, -47\n",
        "- Characters (char or string): any element present on the keyboard. Examples: “Maria”, “John”, ‘M’, ‘F’\n",
        "- Logic (boolean): true or false. Examples: true, false, 1, 0"
      ],
      "metadata": {
        "id": "YwZUC1NmXfU3"
      }
    },
    {
      "cell_type": "markdown",
      "source": [
        "## Integer variables"
      ],
      "metadata": {
        "id": "-LwqZvhpYYSQ"
      }
    },
    {
      "cell_type": "code",
      "source": [
        "number1 = -3\n",
        "number2 = 14\n",
        "number3 = 15"
      ],
      "metadata": {
        "id": "nGvF-TBs1Lyg"
      },
      "execution_count": null,
      "outputs": []
    },
    {
      "cell_type": "code",
      "source": [
        "number1"
      ],
      "metadata": {
        "colab": {
          "base_uri": "https://localhost:8080/"
        },
        "id": "SirFE8jQ1TkU",
        "outputId": "469edf18-8a49-4574-ea5a-f3b6277c8142"
      },
      "execution_count": null,
      "outputs": [
        {
          "output_type": "execute_result",
          "data": {
            "text/plain": [
              "-3"
            ]
          },
          "metadata": {},
          "execution_count": 2
        }
      ]
    },
    {
      "cell_type": "code",
      "source": [
        "print(number2)"
      ],
      "metadata": {
        "colab": {
          "base_uri": "https://localhost:8080/"
        },
        "id": "MFA4Gbf31XRc",
        "outputId": "6e68407b-1b19-4f7e-9273-c193e8e1f4ff"
      },
      "execution_count": null,
      "outputs": [
        {
          "output_type": "stream",
          "name": "stdout",
          "text": [
            "14\n"
          ]
        }
      ]
    },
    {
      "cell_type": "code",
      "source": [
        "print(number1, number3)"
      ],
      "metadata": {
        "colab": {
          "base_uri": "https://localhost:8080/"
        },
        "id": "9DlQv_pE1bON",
        "outputId": "09f446d9-5d27-4567-8d69-f40e5cd96909"
      },
      "execution_count": null,
      "outputs": [
        {
          "output_type": "stream",
          "name": "stdout",
          "text": [
            "-3 15\n"
          ]
        }
      ]
    },
    {
      "cell_type": "markdown",
      "source": [
        "## Float variables"
      ],
      "metadata": {
        "id": "Stg5MSI9Yf-n"
      }
    },
    {
      "cell_type": "code",
      "source": [
        "float1 = 3.14\n",
        "float2 = 2.71\n",
        "float3 = -4.55"
      ],
      "metadata": {
        "id": "Mwod9LG41wQs"
      },
      "execution_count": null,
      "outputs": []
    },
    {
      "cell_type": "code",
      "source": [
        "print(float1)\n",
        "print(float2)\n",
        "print(float3)"
      ],
      "metadata": {
        "colab": {
          "base_uri": "https://localhost:8080/"
        },
        "id": "HwYIeQcZ144f",
        "outputId": "9e456110-bd91-4e17-9a5c-ebe2ad8c8cb8"
      },
      "execution_count": null,
      "outputs": [
        {
          "output_type": "stream",
          "name": "stdout",
          "text": [
            "3.14\n",
            "2.71\n",
            "-4.55\n"
          ]
        }
      ]
    },
    {
      "cell_type": "markdown",
      "source": [
        "## String and char"
      ],
      "metadata": {
        "id": "1RdM_g_pYioE"
      }
    },
    {
      "cell_type": "code",
      "source": [
        "letter = 'a' # char\n",
        "word1 = 'programming language'\n",
        "word2 = 'Python'"
      ],
      "metadata": {
        "id": "QnJYSCZs1_oi"
      },
      "execution_count": null,
      "outputs": []
    },
    {
      "cell_type": "code",
      "source": [
        "print(letter, word1)"
      ],
      "metadata": {
        "colab": {
          "base_uri": "https://localhost:8080/"
        },
        "id": "I-7wz6kP2bNa",
        "outputId": "c17b2978-3e82-45d3-8a5f-3f554a637cc1"
      },
      "execution_count": null,
      "outputs": [
        {
          "output_type": "stream",
          "name": "stdout",
          "text": [
            "a programming language\n"
          ]
        }
      ]
    },
    {
      "cell_type": "code",
      "source": [
        "print('I am learning', word2)"
      ],
      "metadata": {
        "colab": {
          "base_uri": "https://localhost:8080/"
        },
        "id": "BTYZrk7H2iDH",
        "outputId": "bebdcb8e-882d-47bd-b46c-0b7bb00a57c0"
      },
      "execution_count": null,
      "outputs": [
        {
          "output_type": "stream",
          "name": "stdout",
          "text": [
            "I am learning Python\n"
          ]
        }
      ]
    },
    {
      "cell_type": "code",
      "source": [
        "print('This', word1, 'is called', word2)"
      ],
      "metadata": {
        "colab": {
          "base_uri": "https://localhost:8080/"
        },
        "id": "cxlnIQXH26PY",
        "outputId": "6e7d3c79-f808-4a5a-843b-1be4de2a930b"
      },
      "execution_count": null,
      "outputs": [
        {
          "output_type": "stream",
          "name": "stdout",
          "text": [
            "This programming language is called Python\n"
          ]
        }
      ]
    },
    {
      "cell_type": "code",
      "source": [
        "age = int(input('Type your age: '))\n",
        "print('Your age is ', age)"
      ],
      "metadata": {
        "colab": {
          "base_uri": "https://localhost:8080/"
        },
        "id": "Uh8gKA_f3K9A",
        "outputId": "793409e2-213f-4789-c741-ecc2cfa14ddd"
      },
      "execution_count": null,
      "outputs": [
        {
          "output_type": "stream",
          "name": "stdout",
          "text": [
            "Type your age: 21\n",
            "Your age is  21\n"
          ]
        }
      ]
    },
    {
      "cell_type": "code",
      "source": [
        "age"
      ],
      "metadata": {
        "colab": {
          "base_uri": "https://localhost:8080/"
        },
        "id": "KV5-QbSi3tjE",
        "outputId": "93116ae8-5988-4632-ee2f-13a254f029a2"
      },
      "execution_count": null,
      "outputs": [
        {
          "output_type": "execute_result",
          "data": {
            "text/plain": [
              "21"
            ]
          },
          "metadata": {},
          "execution_count": 19
        }
      ]
    },
    {
      "cell_type": "code",
      "source": [
        "speed = float(input('Type the speed: '))\n",
        "print('The speed is', speed)"
      ],
      "metadata": {
        "colab": {
          "base_uri": "https://localhost:8080/"
        },
        "id": "3D2WUksX4OBq",
        "outputId": "2feb0a8a-f55c-474f-e013-cf77020a7a69"
      },
      "execution_count": null,
      "outputs": [
        {
          "output_type": "stream",
          "name": "stdout",
          "text": [
            "Type the speed: 80.5\n",
            "The speed is 80.5\n"
          ]
        }
      ]
    },
    {
      "cell_type": "code",
      "source": [
        "speed"
      ],
      "metadata": {
        "colab": {
          "base_uri": "https://localhost:8080/"
        },
        "id": "8Zi7qWRh4YF6",
        "outputId": "e3b3eeb0-ea0a-4338-e386-cc756166a3a7"
      },
      "execution_count": null,
      "outputs": [
        {
          "output_type": "execute_result",
          "data": {
            "text/plain": [
              "80.5"
            ]
          },
          "metadata": {},
          "execution_count": 23
        }
      ]
    },
    {
      "cell_type": "code",
      "source": [
        "name = str(input('What is your name?'))\n",
        "print('Your name is', name)"
      ],
      "metadata": {
        "colab": {
          "base_uri": "https://localhost:8080/"
        },
        "id": "b1-yWMI84ijo",
        "outputId": "feacc743-5f91-4eb9-dc76-56803e39b1cc"
      },
      "execution_count": null,
      "outputs": [
        {
          "output_type": "stream",
          "name": "stdout",
          "text": [
            "What is your name?Jones\n",
            "Your name is Jones\n"
          ]
        }
      ]
    },
    {
      "cell_type": "code",
      "source": [
        "name"
      ],
      "metadata": {
        "colab": {
          "base_uri": "https://localhost:8080/",
          "height": 37
        },
        "id": "Fdxbq4z-4sYP",
        "outputId": "1bc813e8-6d5f-40ef-a253-78a8135ab353"
      },
      "execution_count": null,
      "outputs": [
        {
          "output_type": "execute_result",
          "data": {
            "text/plain": [
              "'Jones'"
            ],
            "application/vnd.google.colaboratory.intrinsic+json": {
              "type": "string"
            }
          },
          "metadata": {},
          "execution_count": 27
        }
      ]
    },
    {
      "cell_type": "markdown",
      "source": [
        "# Mathematical operations"
      ],
      "metadata": {
        "id": "SbpdPGaBYodb"
      }
    },
    {
      "cell_type": "code",
      "source": [
        "a = 5\n",
        "b = 3\n",
        "print(a, b)"
      ],
      "metadata": {
        "colab": {
          "base_uri": "https://localhost:8080/"
        },
        "id": "G7kYSac37pQi",
        "outputId": "194bde0e-c4d9-4044-ed2b-8420d73904c0"
      },
      "execution_count": null,
      "outputs": [
        {
          "output_type": "stream",
          "name": "stdout",
          "text": [
            "5 3\n"
          ]
        }
      ]
    },
    {
      "cell_type": "code",
      "source": [
        "a + b"
      ],
      "metadata": {
        "colab": {
          "base_uri": "https://localhost:8080/"
        },
        "id": "-Z-Dn6-b7vfP",
        "outputId": "b311dddc-cc7e-4e1d-8c8b-04da25f4a541"
      },
      "execution_count": null,
      "outputs": [
        {
          "output_type": "execute_result",
          "data": {
            "text/plain": [
              "8"
            ]
          },
          "metadata": {},
          "execution_count": 29
        }
      ]
    },
    {
      "cell_type": "code",
      "source": [
        "print('The sum is', a + b)"
      ],
      "metadata": {
        "colab": {
          "base_uri": "https://localhost:8080/"
        },
        "id": "HaoKaOQY7y9Z",
        "outputId": "2a9aaa37-fbf6-4c63-c066-3012b6a0187e"
      },
      "execution_count": null,
      "outputs": [
        {
          "output_type": "stream",
          "name": "stdout",
          "text": [
            "The sum is 8\n"
          ]
        }
      ]
    },
    {
      "cell_type": "code",
      "source": [
        "print('The subctraction is', a - b)"
      ],
      "metadata": {
        "colab": {
          "base_uri": "https://localhost:8080/"
        },
        "id": "A-KS8Df574jo",
        "outputId": "4076265c-256e-40ad-9224-71621018da9f"
      },
      "execution_count": null,
      "outputs": [
        {
          "output_type": "stream",
          "name": "stdout",
          "text": [
            "The subctraction is 2\n"
          ]
        }
      ]
    },
    {
      "cell_type": "code",
      "source": [
        "print('The multiplication is', a * b)"
      ],
      "metadata": {
        "colab": {
          "base_uri": "https://localhost:8080/"
        },
        "id": "7LD1uc7j7-fU",
        "outputId": "5f8e1c41-4932-454c-e7af-feda588b6000"
      },
      "execution_count": null,
      "outputs": [
        {
          "output_type": "stream",
          "name": "stdout",
          "text": [
            "The multiplication is 15\n"
          ]
        }
      ]
    },
    {
      "cell_type": "code",
      "source": [
        "print('The division is', a / b)"
      ],
      "metadata": {
        "colab": {
          "base_uri": "https://localhost:8080/"
        },
        "id": "1p1kAPet8EFv",
        "outputId": "363ed486-a475-4a92-82b4-00e3f107e64c"
      },
      "execution_count": null,
      "outputs": [
        {
          "output_type": "stream",
          "name": "stdout",
          "text": [
            "The division is 1.6666666666666667\n"
          ]
        }
      ]
    },
    {
      "cell_type": "code",
      "source": [
        "print('The rest is', 10 % 2)"
      ],
      "metadata": {
        "colab": {
          "base_uri": "https://localhost:8080/"
        },
        "id": "1XjHe13Q8Ot_",
        "outputId": "993bb513-219c-4fae-d284-fa09c7b6a23a"
      },
      "execution_count": null,
      "outputs": [
        {
          "output_type": "stream",
          "name": "stdout",
          "text": [
            "The rest is 0\n"
          ]
        }
      ]
    },
    {
      "cell_type": "code",
      "source": [
        "5 * 5 * 5 * 5"
      ],
      "metadata": {
        "colab": {
          "base_uri": "https://localhost:8080/"
        },
        "id": "Dx0ekT0z9Euf",
        "outputId": "66324cae-ec00-4a00-8b7b-6704aaddc5b0"
      },
      "execution_count": null,
      "outputs": [
        {
          "output_type": "execute_result",
          "data": {
            "text/plain": [
              "625"
            ]
          },
          "metadata": {},
          "execution_count": 39
        }
      ]
    },
    {
      "cell_type": "code",
      "source": [
        "print('5 to the power of 4 is', 5**4)"
      ],
      "metadata": {
        "colab": {
          "base_uri": "https://localhost:8080/"
        },
        "id": "DOu4t1Dk81kZ",
        "outputId": "701bef7a-ea70-4bc4-a8f3-0c5004718662"
      },
      "execution_count": null,
      "outputs": [
        {
          "output_type": "stream",
          "name": "stdout",
          "text": [
            "5 to the power of 4 is 625\n"
          ]
        }
      ]
    },
    {
      "cell_type": "code",
      "source": [
        "import math\n",
        "math.sqrt(81)"
      ],
      "metadata": {
        "colab": {
          "base_uri": "https://localhost:8080/"
        },
        "id": "GmanJgWE9NbA",
        "outputId": "65ab861d-af6d-4e3d-ad08-2c3003919af2"
      },
      "execution_count": null,
      "outputs": [
        {
          "output_type": "execute_result",
          "data": {
            "text/plain": [
              "9.0"
            ]
          },
          "metadata": {},
          "execution_count": 40
        }
      ]
    },
    {
      "cell_type": "markdown",
      "source": [
        "# Rouding"
      ],
      "metadata": {
        "id": "RlvL4OyIYtYD"
      }
    },
    {
      "cell_type": "code",
      "source": [
        "print('The division is', round(a / b, 2))"
      ],
      "metadata": {
        "colab": {
          "base_uri": "https://localhost:8080/"
        },
        "id": "qBR4KdI89eqL",
        "outputId": "ed1dde6c-b895-4614-e149-d79fabb5856e"
      },
      "execution_count": null,
      "outputs": [
        {
          "output_type": "stream",
          "name": "stdout",
          "text": [
            "The division is 1.67\n"
          ]
        }
      ]
    },
    {
      "cell_type": "markdown",
      "source": [
        "# Logical operators"
      ],
      "metadata": {
        "id": "nlwxNW_mYwnn"
      }
    },
    {
      "cell_type": "code",
      "source": [
        "a = True\n",
        "b = False"
      ],
      "metadata": {
        "id": "DqQ-d29b--xZ"
      },
      "execution_count": null,
      "outputs": []
    },
    {
      "cell_type": "code",
      "source": [
        "print(a, b)"
      ],
      "metadata": {
        "colab": {
          "base_uri": "https://localhost:8080/"
        },
        "id": "nXCcAp36_LHJ",
        "outputId": "db2edaa3-dbbd-43fa-fa4e-9d1e15492c6f"
      },
      "execution_count": null,
      "outputs": [
        {
          "output_type": "stream",
          "name": "stdout",
          "text": [
            "True False\n"
          ]
        }
      ]
    },
    {
      "cell_type": "code",
      "source": [
        "a and b"
      ],
      "metadata": {
        "colab": {
          "base_uri": "https://localhost:8080/"
        },
        "id": "MHqaVvKU_PUc",
        "outputId": "88b8d5ba-0bfc-4b88-be53-b1e939a5a520"
      },
      "execution_count": null,
      "outputs": [
        {
          "output_type": "execute_result",
          "data": {
            "text/plain": [
              "False"
            ]
          },
          "metadata": {},
          "execution_count": 51
        }
      ]
    },
    {
      "cell_type": "code",
      "source": [
        "a & b"
      ],
      "metadata": {
        "colab": {
          "base_uri": "https://localhost:8080/"
        },
        "id": "phkdfRbP_clQ",
        "outputId": "047a66cd-0106-4920-cccc-85229ef6e57d"
      },
      "execution_count": null,
      "outputs": [
        {
          "output_type": "execute_result",
          "data": {
            "text/plain": [
              "False"
            ]
          },
          "metadata": {},
          "execution_count": 52
        }
      ]
    },
    {
      "cell_type": "code",
      "source": [
        "c = a and b\n",
        "print(\"Are 'A' and 'B' equal?\", c)"
      ],
      "metadata": {
        "colab": {
          "base_uri": "https://localhost:8080/"
        },
        "id": "dkGIvvZp_tUb",
        "outputId": "9612535e-c826-4584-dd38-7eec638d2ee2"
      },
      "execution_count": null,
      "outputs": [
        {
          "output_type": "stream",
          "name": "stdout",
          "text": [
            "Are 'A' and 'B' equal? False\n"
          ]
        }
      ]
    },
    {
      "cell_type": "code",
      "source": [
        "a or b"
      ],
      "metadata": {
        "colab": {
          "base_uri": "https://localhost:8080/"
        },
        "id": "4vlvEPW1ATio",
        "outputId": "51576dca-65e2-49ef-ae03-beb5a7c03f17"
      },
      "execution_count": null,
      "outputs": [
        {
          "output_type": "execute_result",
          "data": {
            "text/plain": [
              "True"
            ]
          },
          "metadata": {},
          "execution_count": 60
        }
      ]
    },
    {
      "cell_type": "code",
      "source": [
        "a | b"
      ],
      "metadata": {
        "colab": {
          "base_uri": "https://localhost:8080/"
        },
        "id": "MxJHZ0ZzAi6D",
        "outputId": "01f610fe-db1c-4a55-c404-d3479442ad33"
      },
      "execution_count": null,
      "outputs": [
        {
          "output_type": "execute_result",
          "data": {
            "text/plain": [
              "True"
            ]
          },
          "metadata": {},
          "execution_count": 61
        }
      ]
    },
    {
      "cell_type": "code",
      "source": [
        "d = a or b\n",
        "print(\"Are 'A' or 'B' equal?\", d)"
      ],
      "metadata": {
        "colab": {
          "base_uri": "https://localhost:8080/"
        },
        "id": "UAsB7UurAvnD",
        "outputId": "53ddc2e2-dc58-4532-cfe2-3f2ad57d4738"
      },
      "execution_count": null,
      "outputs": [
        {
          "output_type": "stream",
          "name": "stdout",
          "text": [
            "Are 'A' or 'B' equal? True\n"
          ]
        }
      ]
    },
    {
      "cell_type": "code",
      "source": [
        "a"
      ],
      "metadata": {
        "colab": {
          "base_uri": "https://localhost:8080/"
        },
        "id": "DD3CxgfkA9Cd",
        "outputId": "e7fc5534-a02f-40a9-dd23-ee7167a8f633"
      },
      "execution_count": null,
      "outputs": [
        {
          "output_type": "execute_result",
          "data": {
            "text/plain": [
              "True"
            ]
          },
          "metadata": {},
          "execution_count": 63
        }
      ]
    },
    {
      "cell_type": "code",
      "source": [
        "not a"
      ],
      "metadata": {
        "colab": {
          "base_uri": "https://localhost:8080/"
        },
        "id": "eq9Z_-MqA7Cn",
        "outputId": "e1f274cc-6faa-4a22-877b-e8cafaadf4db"
      },
      "execution_count": null,
      "outputs": [
        {
          "output_type": "execute_result",
          "data": {
            "text/plain": [
              "False"
            ]
          },
          "metadata": {},
          "execution_count": 65
        }
      ]
    },
    {
      "cell_type": "code",
      "source": [
        "b"
      ],
      "metadata": {
        "colab": {
          "base_uri": "https://localhost:8080/"
        },
        "id": "sxRdhQWuBB2B",
        "outputId": "bc2689e1-79b0-4024-ac06-518b9d0a782e"
      },
      "execution_count": null,
      "outputs": [
        {
          "output_type": "execute_result",
          "data": {
            "text/plain": [
              "False"
            ]
          },
          "metadata": {},
          "execution_count": 66
        }
      ]
    },
    {
      "cell_type": "code",
      "source": [
        "not b"
      ],
      "metadata": {
        "colab": {
          "base_uri": "https://localhost:8080/"
        },
        "id": "dimOC027BDNO",
        "outputId": "92ba43fa-e9c5-4b93-bfde-7e86f0cc9cde"
      },
      "execution_count": null,
      "outputs": [
        {
          "output_type": "execute_result",
          "data": {
            "text/plain": [
              "True"
            ]
          },
          "metadata": {},
          "execution_count": 67
        }
      ]
    },
    {
      "cell_type": "markdown",
      "source": [
        "# Relational operators"
      ],
      "metadata": {
        "id": "zev926lkY0X5"
      }
    },
    {
      "cell_type": "code",
      "source": [
        "5 > 3"
      ],
      "metadata": {
        "colab": {
          "base_uri": "https://localhost:8080/"
        },
        "id": "OWGmljndBMYf",
        "outputId": "24ba7e97-3451-49a9-a45c-db4a3fd58fdd"
      },
      "execution_count": null,
      "outputs": [
        {
          "output_type": "execute_result",
          "data": {
            "text/plain": [
              "True"
            ]
          },
          "metadata": {},
          "execution_count": 68
        }
      ]
    },
    {
      "cell_type": "code",
      "source": [
        "5 < 3"
      ],
      "metadata": {
        "colab": {
          "base_uri": "https://localhost:8080/"
        },
        "id": "vp_J_03aBQ6D",
        "outputId": "8a495d7a-0274-40c5-bf74-7bef49c2671c"
      },
      "execution_count": null,
      "outputs": [
        {
          "output_type": "execute_result",
          "data": {
            "text/plain": [
              "False"
            ]
          },
          "metadata": {},
          "execution_count": 69
        }
      ]
    },
    {
      "cell_type": "code",
      "source": [
        "5 >= 5"
      ],
      "metadata": {
        "colab": {
          "base_uri": "https://localhost:8080/"
        },
        "id": "kxyq16fnBUmm",
        "outputId": "19f940f9-700f-4ce1-cdbd-e21088bef9fe"
      },
      "execution_count": null,
      "outputs": [
        {
          "output_type": "execute_result",
          "data": {
            "text/plain": [
              "True"
            ]
          },
          "metadata": {},
          "execution_count": 71
        }
      ]
    },
    {
      "cell_type": "code",
      "source": [
        "5 <= 3"
      ],
      "metadata": {
        "colab": {
          "base_uri": "https://localhost:8080/"
        },
        "id": "9QgYHAshBZu8",
        "outputId": "9d9d7af6-8039-4078-cbb6-93748720090a"
      },
      "execution_count": null,
      "outputs": [
        {
          "output_type": "execute_result",
          "data": {
            "text/plain": [
              "False"
            ]
          },
          "metadata": {},
          "execution_count": 72
        }
      ]
    },
    {
      "cell_type": "code",
      "source": [
        "5 == 5"
      ],
      "metadata": {
        "colab": {
          "base_uri": "https://localhost:8080/"
        },
        "id": "uhNG108PBfXU",
        "outputId": "7245a509-cdd4-45ac-b581-3f7fa4087955"
      },
      "execution_count": null,
      "outputs": [
        {
          "output_type": "execute_result",
          "data": {
            "text/plain": [
              "True"
            ]
          },
          "metadata": {},
          "execution_count": 73
        }
      ]
    },
    {
      "cell_type": "code",
      "source": [
        "5 == 3"
      ],
      "metadata": {
        "colab": {
          "base_uri": "https://localhost:8080/"
        },
        "id": "uXR1JD_tBycl",
        "outputId": "66653c2a-aff7-4efe-f3e2-97a486471bfa"
      },
      "execution_count": null,
      "outputs": [
        {
          "output_type": "execute_result",
          "data": {
            "text/plain": [
              "False"
            ]
          },
          "metadata": {},
          "execution_count": 74
        }
      ]
    },
    {
      "cell_type": "code",
      "source": [
        "5 != 5"
      ],
      "metadata": {
        "colab": {
          "base_uri": "https://localhost:8080/"
        },
        "id": "qewbRvIXB2Zq",
        "outputId": "e52b294f-cbcc-418f-bc30-448b4080604b"
      },
      "execution_count": null,
      "outputs": [
        {
          "output_type": "execute_result",
          "data": {
            "text/plain": [
              "False"
            ]
          },
          "metadata": {},
          "execution_count": 75
        }
      ]
    },
    {
      "cell_type": "code",
      "source": [
        "5 != 3"
      ],
      "metadata": {
        "colab": {
          "base_uri": "https://localhost:8080/"
        },
        "id": "olVAr76QB9yc",
        "outputId": "c01a03fe-627c-40da-85ac-97a41ef77c4d"
      },
      "execution_count": null,
      "outputs": [
        {
          "output_type": "execute_result",
          "data": {
            "text/plain": [
              "True"
            ]
          },
          "metadata": {},
          "execution_count": 76
        }
      ]
    },
    {
      "cell_type": "markdown",
      "source": [
        "# Conditional operators"
      ],
      "metadata": {
        "id": "aOWrufnyY43f"
      }
    },
    {
      "cell_type": "code",
      "source": [
        "# { }\n",
        "# begin end\n",
        "if 5 > 3:\n",
        "  print('5 is greater than 3')"
      ],
      "metadata": {
        "colab": {
          "base_uri": "https://localhost:8080/"
        },
        "id": "-d4FFtcOD7ho",
        "outputId": "f1778207-7f48-4254-a1a4-c0c0179d59ca"
      },
      "execution_count": null,
      "outputs": [
        {
          "output_type": "stream",
          "name": "stdout",
          "text": [
            "5 is greater than 3\n"
          ]
        }
      ]
    },
    {
      "cell_type": "code",
      "source": [
        "if 5 > 6:\n",
        "  print('5 is greater')\n",
        "else:\n",
        "  print('5 is not greater')"
      ],
      "metadata": {
        "colab": {
          "base_uri": "https://localhost:8080/"
        },
        "id": "U4kilpqyEzBv",
        "outputId": "2dcf107a-e337-4b97-aa67-7168b69c9d6e"
      },
      "execution_count": null,
      "outputs": [
        {
          "output_type": "stream",
          "name": "stdout",
          "text": [
            "5 is not greater\n"
          ]
        }
      ]
    },
    {
      "cell_type": "code",
      "source": [
        "if 6 > 5:\n",
        "  print('6 is greater')\n",
        "elif 6 < 5: # else if\n",
        "  print('6 is less')\n",
        "else:\n",
        "  print('Equal')"
      ],
      "metadata": {
        "colab": {
          "base_uri": "https://localhost:8080/"
        },
        "id": "v87I-pyiFD9M",
        "outputId": "38b416c7-cfd6-48e7-a331-4dfb7a1d51bd"
      },
      "execution_count": null,
      "outputs": [
        {
          "output_type": "stream",
          "name": "stdout",
          "text": [
            "6 is greater\n"
          ]
        }
      ]
    },
    {
      "cell_type": "code",
      "source": [
        "n = 2\n",
        "if n == 4:\n",
        "  print('n is equal to 4')\n",
        "else:\n",
        "  if n == 3:\n",
        "    print('n is equal to 3')\n",
        "  else:\n",
        "    print('n is not equal to 4 and not equal to 3')"
      ],
      "metadata": {
        "colab": {
          "base_uri": "https://localhost:8080/"
        },
        "id": "swUOG9_UFz_c",
        "outputId": "f906cf4c-aca4-44db-9775-6d21fff2c64e"
      },
      "execution_count": null,
      "outputs": [
        {
          "output_type": "stream",
          "name": "stdout",
          "text": [
            "n is not equal to 4 and not equal to 3\n"
          ]
        }
      ]
    },
    {
      "cell_type": "code",
      "source": [
        "x = 2\n",
        "y = 4\n",
        "\n",
        "if (x > 1) and (y % 2 == 0):\n",
        "  print(\"'x' is greater than 1 and 'y' is even\")\n",
        "else:\n",
        "  print('One or more conditions are False')"
      ],
      "metadata": {
        "colab": {
          "base_uri": "https://localhost:8080/"
        },
        "id": "gD8U21PWGgnW",
        "outputId": "1a46a4bd-258d-4e34-dad0-a775684e0150"
      },
      "execution_count": null,
      "outputs": [
        {
          "output_type": "stream",
          "name": "stdout",
          "text": [
            "'x' is greater than 1 and 'y' is even\n"
          ]
        }
      ]
    },
    {
      "cell_type": "markdown",
      "source": [
        "# Strings"
      ],
      "metadata": {
        "id": "QKwznqcgIacy"
      }
    },
    {
      "cell_type": "code",
      "source": [
        "a = 'python'\n",
        "print(a)"
      ],
      "metadata": {
        "colab": {
          "base_uri": "https://localhost:8080/"
        },
        "id": "Y79myIp4MhCv",
        "outputId": "e7f6bc03-435a-4aeb-b931-1b60727a2740"
      },
      "execution_count": null,
      "outputs": [
        {
          "output_type": "stream",
          "name": "stdout",
          "text": [
            "python\n"
          ]
        }
      ]
    },
    {
      "cell_type": "code",
      "source": [
        "upper = a.upper()\n",
        "print(upper)"
      ],
      "metadata": {
        "colab": {
          "base_uri": "https://localhost:8080/"
        },
        "id": "3qm5ZZkSMtl2",
        "outputId": "db6bc44c-6064-4f03-c50d-cd7e09dd2ef3"
      },
      "execution_count": null,
      "outputs": [
        {
          "output_type": "stream",
          "name": "stdout",
          "text": [
            "PYTHON\n"
          ]
        }
      ]
    },
    {
      "cell_type": "code",
      "source": [
        "lower = upper.lower()\n",
        "print(lower)"
      ],
      "metadata": {
        "colab": {
          "base_uri": "https://localhost:8080/"
        },
        "id": "DuIh5x4kM0mk",
        "outputId": "e12a2bdb-c4b5-4ccf-8fc3-56fc0fef5964"
      },
      "execution_count": null,
      "outputs": [
        {
          "output_type": "stream",
          "name": "stdout",
          "text": [
            "python\n"
          ]
        }
      ]
    },
    {
      "cell_type": "code",
      "source": [
        "capital = a.capitalize()\n",
        "print(capital)"
      ],
      "metadata": {
        "colab": {
          "base_uri": "https://localhost:8080/"
        },
        "id": "SG47O-UHM9Zb",
        "outputId": "d97d8866-4fbf-46a2-f56a-134a7e3e3892"
      },
      "execution_count": null,
      "outputs": [
        {
          "output_type": "stream",
          "name": "stdout",
          "text": [
            "Python\n"
          ]
        }
      ]
    },
    {
      "cell_type": "code",
      "source": [
        "middle = a[0:3]\n",
        "print(middle)"
      ],
      "metadata": {
        "colab": {
          "base_uri": "https://localhost:8080/"
        },
        "id": "9DvG2xmONYYC",
        "outputId": "879031ed-0fbb-4b43-8431-7e99f93083b7"
      },
      "execution_count": null,
      "outputs": [
        {
          "output_type": "stream",
          "name": "stdout",
          "text": [
            "pyt\n"
          ]
        }
      ]
    },
    {
      "cell_type": "code",
      "source": [
        "last = a[3:]\n",
        "print(last)"
      ],
      "metadata": {
        "colab": {
          "base_uri": "https://localhost:8080/"
        },
        "id": "H3eO0N1COBrZ",
        "outputId": "501cd769-4b18-4f54-b68c-c34f0a7d0308"
      },
      "execution_count": null,
      "outputs": [
        {
          "output_type": "stream",
          "name": "stdout",
          "text": [
            "hon\n"
          ]
        }
      ]
    },
    {
      "cell_type": "code",
      "source": [
        "b = a.replace('y', 'i')\n",
        "print(b)"
      ],
      "metadata": {
        "colab": {
          "base_uri": "https://localhost:8080/"
        },
        "id": "SV1zqfRTPBqZ",
        "outputId": "58af9cdf-a769-44c4-8819-d123b8942208"
      },
      "execution_count": null,
      "outputs": [
        {
          "output_type": "stream",
          "name": "stdout",
          "text": [
            "pithon\n"
          ]
        }
      ]
    },
    {
      "cell_type": "code",
      "source": [
        "c = a.replace('th', 'ht')\n",
        "print(c)"
      ],
      "metadata": {
        "colab": {
          "base_uri": "https://localhost:8080/"
        },
        "id": "pXccVb9QPSXb",
        "outputId": "3576e06f-2d37-4c08-b27e-13ba5fc64484"
      },
      "execution_count": null,
      "outputs": [
        {
          "output_type": "stream",
          "name": "stdout",
          "text": [
            "pyhton\n"
          ]
        }
      ]
    },
    {
      "cell_type": "code",
      "source": [
        "c.find('h')"
      ],
      "metadata": {
        "colab": {
          "base_uri": "https://localhost:8080/"
        },
        "id": "xWc7zybqPxkb",
        "outputId": "119a3e25-4458-406a-bb2f-f965d7921508"
      },
      "execution_count": null,
      "outputs": [
        {
          "output_type": "execute_result",
          "data": {
            "text/plain": [
              "2"
            ]
          },
          "metadata": {},
          "execution_count": 10
        }
      ]
    },
    {
      "cell_type": "code",
      "source": [
        "c.find('p')"
      ],
      "metadata": {
        "colab": {
          "base_uri": "https://localhost:8080/"
        },
        "id": "WZDjkHkzP9zI",
        "outputId": "75c19b82-1ef5-4682-b1be-63d03fbfc87b"
      },
      "execution_count": null,
      "outputs": [
        {
          "output_type": "execute_result",
          "data": {
            "text/plain": [
              "0"
            ]
          },
          "metadata": {},
          "execution_count": 11
        }
      ]
    },
    {
      "cell_type": "code",
      "source": [
        "c.find('m')"
      ],
      "metadata": {
        "colab": {
          "base_uri": "https://localhost:8080/"
        },
        "id": "3JsNxorLQCA0",
        "outputId": "0dfe0184-5540-4221-d63a-34cba2ce25d9"
      },
      "execution_count": null,
      "outputs": [
        {
          "output_type": "execute_result",
          "data": {
            "text/plain": [
              "-1"
            ]
          },
          "metadata": {},
          "execution_count": 12
        }
      ]
    },
    {
      "cell_type": "code",
      "source": [
        "len(c)"
      ],
      "metadata": {
        "colab": {
          "base_uri": "https://localhost:8080/"
        },
        "id": "J143j_FpQMQR",
        "outputId": "cc5523dd-3ec7-41a5-da1c-0ade886a63b7"
      },
      "execution_count": null,
      "outputs": [
        {
          "output_type": "execute_result",
          "data": {
            "text/plain": [
              "6"
            ]
          },
          "metadata": {},
          "execution_count": 13
        }
      ]
    },
    {
      "cell_type": "code",
      "source": [
        "d = ' python '\n",
        "print(len(d))"
      ],
      "metadata": {
        "colab": {
          "base_uri": "https://localhost:8080/"
        },
        "id": "nZpvA_nzQTXO",
        "outputId": "78407fbe-0290-45d2-ee8c-13a4af2760aa"
      },
      "execution_count": null,
      "outputs": [
        {
          "output_type": "stream",
          "name": "stdout",
          "text": [
            "8\n"
          ]
        }
      ]
    },
    {
      "cell_type": "code",
      "source": [
        "e = d.strip()\n",
        "print(len(e))"
      ],
      "metadata": {
        "colab": {
          "base_uri": "https://localhost:8080/"
        },
        "id": "ZO_6NyH3Qb3W",
        "outputId": "71e51e15-0303-4949-dffe-d221f57f35a3"
      },
      "execution_count": null,
      "outputs": [
        {
          "output_type": "stream",
          "name": "stdout",
          "text": [
            "6\n"
          ]
        }
      ]
    },
    {
      "cell_type": "code",
      "source": [
        "n1 = 14\n",
        "n2 = 16"
      ],
      "metadata": {
        "id": "3re2w2KXQvVk"
      },
      "execution_count": null,
      "outputs": []
    },
    {
      "cell_type": "code",
      "source": [
        "print(f'{n1} divided by {n2} is {n1 / n2}')"
      ],
      "metadata": {
        "colab": {
          "base_uri": "https://localhost:8080/"
        },
        "id": "zJdNzGsqQymD",
        "outputId": "9257ca4a-2a06-4061-d387-6dd21192ed11"
      },
      "execution_count": null,
      "outputs": [
        {
          "output_type": "stream",
          "name": "stdout",
          "text": [
            "14 divided by 16 is 0.875\n"
          ]
        }
      ]
    },
    {
      "cell_type": "markdown",
      "source": [
        "# For loop"
      ],
      "metadata": {
        "id": "p-tUuTWnY8V4"
      }
    },
    {
      "cell_type": "code",
      "source": [
        "print(1)\n",
        "print(2)\n",
        "print(3)\n",
        "print(4)\n",
        "print(5)"
      ],
      "metadata": {
        "colab": {
          "base_uri": "https://localhost:8080/"
        },
        "id": "BIcdUC07JOSo",
        "outputId": "4ce988fb-f9e3-4648-ec0c-4e11d80eb478"
      },
      "execution_count": null,
      "outputs": [
        {
          "output_type": "stream",
          "name": "stdout",
          "text": [
            "1\n",
            "2\n",
            "3\n",
            "4\n",
            "5\n"
          ]
        }
      ]
    },
    {
      "cell_type": "code",
      "source": [
        "for number in range(1, 6):\n",
        "  print(number)"
      ],
      "metadata": {
        "colab": {
          "base_uri": "https://localhost:8080/"
        },
        "id": "lIqBoFLjJsiE",
        "outputId": "9b7e9a29-51db-4f9c-819b-17499b8b6123"
      },
      "execution_count": null,
      "outputs": [
        {
          "output_type": "stream",
          "name": "stdout",
          "text": [
            "1\n",
            "2\n",
            "3\n",
            "4\n",
            "5\n"
          ]
        }
      ]
    },
    {
      "cell_type": "code",
      "source": [
        "for number in range(5, 0, -1):\n",
        "  print(number)"
      ],
      "metadata": {
        "colab": {
          "base_uri": "https://localhost:8080/"
        },
        "id": "pyTnvdIVKCgb",
        "outputId": "cc5b62ab-4b3e-4356-b437-76df09000e98"
      },
      "execution_count": null,
      "outputs": [
        {
          "output_type": "stream",
          "name": "stdout",
          "text": [
            "5\n",
            "4\n",
            "3\n",
            "2\n",
            "1\n"
          ]
        }
      ]
    },
    {
      "cell_type": "code",
      "source": [
        "5 + 4 + 3 + 2 + 1"
      ],
      "metadata": {
        "colab": {
          "base_uri": "https://localhost:8080/"
        },
        "id": "Bgd3mDPYKZaQ",
        "outputId": "574a093a-0523-4459-aea6-d792b2acdd66"
      },
      "execution_count": null,
      "outputs": [
        {
          "output_type": "execute_result",
          "data": {
            "text/plain": [
              "15"
            ]
          },
          "metadata": {},
          "execution_count": 101
        }
      ]
    },
    {
      "cell_type": "code",
      "source": [
        "# 1 - 0 + 1 = 1\n",
        "# 2 - 1 + 2 = 3\n",
        "# 3 - 3 + 3 = 6\n",
        "# 4 - 6 + 4 = 10\n",
        "# 5 - 10 + 5 = 15\n",
        "sum = 0\n",
        "for number in range(1, 6):\n",
        "  #print(number)\n",
        "  sum = sum + number\n",
        "  #print(sum)\n",
        "print(sum)"
      ],
      "metadata": {
        "colab": {
          "base_uri": "https://localhost:8080/"
        },
        "id": "AiTJEQrxKen5",
        "outputId": "904a0641-0108-40e0-d694-6317aeb74295"
      },
      "execution_count": null,
      "outputs": [
        {
          "output_type": "stream",
          "name": "stdout",
          "text": [
            "15\n"
          ]
        }
      ]
    },
    {
      "cell_type": "code",
      "source": [
        "word = 'python'\n",
        "for letter in word:\n",
        "  #print(letter)\n",
        "  if letter == 'l':\n",
        "    print('It has found letter h')"
      ],
      "metadata": {
        "id": "b_A6h3cGLeIS"
      },
      "execution_count": null,
      "outputs": []
    },
    {
      "cell_type": "code",
      "source": [
        "for i in range(0,5):\n",
        "  print(i)\n",
        "  print('------')\n",
        "  for j in range(0,3):\n",
        "    print(j)\n",
        "  print()"
      ],
      "metadata": {
        "colab": {
          "base_uri": "https://localhost:8080/"
        },
        "id": "vuycT3mYMDje",
        "outputId": "b8164d37-75e9-4af0-c1fa-4899a08f9cc2"
      },
      "execution_count": null,
      "outputs": [
        {
          "output_type": "stream",
          "name": "stdout",
          "text": [
            "0\n",
            "------\n",
            "0\n",
            "1\n",
            "2\n",
            "\n",
            "1\n",
            "------\n",
            "0\n",
            "1\n",
            "2\n",
            "\n",
            "2\n",
            "------\n",
            "0\n",
            "1\n",
            "2\n",
            "\n",
            "3\n",
            "------\n",
            "0\n",
            "1\n",
            "2\n",
            "\n",
            "4\n",
            "------\n",
            "0\n",
            "1\n",
            "2\n",
            "\n"
          ]
        }
      ]
    },
    {
      "cell_type": "markdown",
      "source": [
        "# While loop"
      ],
      "metadata": {
        "id": "2IWuxbK0Y9jN"
      }
    },
    {
      "cell_type": "code",
      "source": [
        "number = 1\n",
        "while number < 6:\n",
        "  print(number)\n",
        "  number += 1"
      ],
      "metadata": {
        "colab": {
          "base_uri": "https://localhost:8080/"
        },
        "id": "Cwo37xWLOHrd",
        "outputId": "83593f28-c76e-4681-869a-e3c12eb04113"
      },
      "execution_count": null,
      "outputs": [
        {
          "output_type": "stream",
          "name": "stdout",
          "text": [
            "1\n",
            "2\n",
            "3\n",
            "4\n",
            "5\n"
          ]
        }
      ]
    },
    {
      "cell_type": "code",
      "source": [
        "number = 5\n",
        "while number > 0:\n",
        "  print(number)\n",
        "  number -= 1"
      ],
      "metadata": {
        "colab": {
          "base_uri": "https://localhost:8080/"
        },
        "id": "xd7gpLe6PKqc",
        "outputId": "ad76be72-4928-4ca6-f7de-dbfca12237c2"
      },
      "execution_count": null,
      "outputs": [
        {
          "output_type": "stream",
          "name": "stdout",
          "text": [
            "5\n",
            "4\n",
            "3\n",
            "2\n",
            "1\n"
          ]
        }
      ]
    },
    {
      "cell_type": "code",
      "source": [
        "1 + 2 + 3 + 4 + 5"
      ],
      "metadata": {
        "colab": {
          "base_uri": "https://localhost:8080/"
        },
        "id": "Me-gvPiTPfYC",
        "outputId": "c132114f-600b-4de0-b0a8-842e7d3e83bc"
      },
      "execution_count": null,
      "outputs": [
        {
          "output_type": "execute_result",
          "data": {
            "text/plain": [
              "15"
            ]
          },
          "metadata": {},
          "execution_count": 118
        }
      ]
    },
    {
      "cell_type": "code",
      "source": [
        "sum = 0\n",
        "number = 1\n",
        "while number < 6:\n",
        "  #print(number)\n",
        "  sum += number\n",
        "  number += 1\n",
        "print(sum)"
      ],
      "metadata": {
        "colab": {
          "base_uri": "https://localhost:8080/"
        },
        "id": "VXLHVAlyPj6J",
        "outputId": "20491f85-e8a2-4282-bf9d-d786665ae71c"
      },
      "execution_count": null,
      "outputs": [
        {
          "output_type": "stream",
          "name": "stdout",
          "text": [
            "15\n"
          ]
        }
      ]
    },
    {
      "cell_type": "code",
      "source": [
        "grade = 19\n",
        "while grade < 1 or grade > 10:\n",
        "  grade = float(input('Type a grade from 0 to 10: '))"
      ],
      "metadata": {
        "colab": {
          "base_uri": "https://localhost:8080/"
        },
        "id": "YRVmnlGrP_65",
        "outputId": "9c9fcf4d-ca0a-49b6-d681-311f926da0a3"
      },
      "execution_count": null,
      "outputs": [
        {
          "name": "stdout",
          "output_type": "stream",
          "text": [
            "Type a grade from 0 to 10: 5\n"
          ]
        }
      ]
    },
    {
      "cell_type": "markdown",
      "source": [
        "# Functions\n",
        "\n",
        "- Parts of code that are given a name and can be called multiple times during execution\n",
        "- Advantages: code reuse, modularity and maintenance"
      ],
      "metadata": {
        "id": "fyXn8snAZAcq"
      }
    },
    {
      "cell_type": "markdown",
      "source": [
        "## No parameter, no return"
      ],
      "metadata": {
        "id": "Zw4xe_Q_SDlG"
      }
    },
    {
      "cell_type": "code",
      "source": [
        "def message():\n",
        "  print('Text')"
      ],
      "metadata": {
        "id": "nUWjIOiQS6j_"
      },
      "execution_count": null,
      "outputs": []
    },
    {
      "cell_type": "code",
      "source": [
        "message()\n",
        "message()\n",
        "message()"
      ],
      "metadata": {
        "colab": {
          "base_uri": "https://localhost:8080/"
        },
        "id": "as-8MMNjTI6H",
        "outputId": "5f608822-82dd-4e2c-c619-389d6e315745"
      },
      "execution_count": null,
      "outputs": [
        {
          "output_type": "stream",
          "name": "stdout",
          "text": [
            "Text\n",
            "Text\n",
            "Text\n"
          ]
        }
      ]
    },
    {
      "cell_type": "markdown",
      "source": [
        "## Parameter, no return"
      ],
      "metadata": {
        "id": "o_GysUwlSGN-"
      }
    },
    {
      "cell_type": "code",
      "source": [
        "def message(text):\n",
        "  print(text)"
      ],
      "metadata": {
        "id": "Jnftuv5VTcQc"
      },
      "execution_count": null,
      "outputs": []
    },
    {
      "cell_type": "code",
      "source": [
        "message('Text 1')\n",
        "message('Text 2')\n",
        "message('Text 3')"
      ],
      "metadata": {
        "colab": {
          "base_uri": "https://localhost:8080/"
        },
        "id": "Cidm2V5WTmnA",
        "outputId": "e333a1f2-d00c-4f5f-de02-467ce9fc5d09"
      },
      "execution_count": null,
      "outputs": [
        {
          "output_type": "stream",
          "name": "stdout",
          "text": [
            "Text 1\n",
            "Text 2\n",
            "Text 3\n"
          ]
        }
      ]
    },
    {
      "cell_type": "code",
      "source": [
        "def sum(a, b):\n",
        "  print(a + b)"
      ],
      "metadata": {
        "id": "I_MDB9czT-YW"
      },
      "execution_count": null,
      "outputs": []
    },
    {
      "cell_type": "code",
      "source": [
        "sum(2,3)"
      ],
      "metadata": {
        "colab": {
          "base_uri": "https://localhost:8080/"
        },
        "id": "ciZD-gprUFa9",
        "outputId": "49648940-b01a-48fd-e0bd-24fc6a9f5c25"
      },
      "execution_count": null,
      "outputs": [
        {
          "output_type": "stream",
          "name": "stdout",
          "text": [
            "5\n"
          ]
        }
      ]
    },
    {
      "cell_type": "code",
      "source": [
        "sum(3,3)\n",
        "sum(1, 2)"
      ],
      "metadata": {
        "colab": {
          "base_uri": "https://localhost:8080/"
        },
        "id": "dBKOUSb4UNnJ",
        "outputId": "9ad4c733-9c2f-4ddc-f350-394c7573097a"
      },
      "execution_count": null,
      "outputs": [
        {
          "output_type": "stream",
          "name": "stdout",
          "text": [
            "6\n",
            "3\n"
          ]
        }
      ]
    },
    {
      "cell_type": "markdown",
      "source": [
        "## Parameter, return"
      ],
      "metadata": {
        "id": "qqlSNF9mSJ0D"
      }
    },
    {
      "cell_type": "code",
      "source": [
        "def sum(a, b):\n",
        "  return a + b"
      ],
      "metadata": {
        "id": "_ClGApy_UXbB"
      },
      "execution_count": null,
      "outputs": []
    },
    {
      "cell_type": "code",
      "source": [
        "sum(3, 2)"
      ],
      "metadata": {
        "colab": {
          "base_uri": "https://localhost:8080/"
        },
        "id": "QJL0pZlZUfCH",
        "outputId": "c8934a14-8dd1-4e43-e7e2-80977cef65d6"
      },
      "execution_count": null,
      "outputs": [
        {
          "output_type": "execute_result",
          "data": {
            "text/plain": [
              "5"
            ]
          },
          "metadata": {},
          "execution_count": 140
        }
      ]
    },
    {
      "cell_type": "code",
      "source": [
        "r = sum(3, 2)\n",
        "print(r)"
      ],
      "metadata": {
        "colab": {
          "base_uri": "https://localhost:8080/"
        },
        "id": "6kq3MG2SUoVT",
        "outputId": "084a37db-6efb-453b-f52c-f2c6b52ef622"
      },
      "execution_count": null,
      "outputs": [
        {
          "output_type": "stream",
          "name": "stdout",
          "text": [
            "5\n"
          ]
        }
      ]
    },
    {
      "cell_type": "code",
      "source": [
        "def multiply(a, b, c = 3):\n",
        "  '''\n",
        "  Multiply the values\n",
        "  Parameters:\n",
        "  a: number 1\n",
        "  b: number 2\n",
        "\n",
        "  Optional:\n",
        "  c: default value 3\n",
        "  '''\n",
        "  return a * b * c"
      ],
      "metadata": {
        "id": "RKCnQx5IVBLE"
      },
      "execution_count": null,
      "outputs": []
    },
    {
      "cell_type": "code",
      "source": [
        "r = multiply(2, 2, 2)\n",
        "print(r)"
      ],
      "metadata": {
        "colab": {
          "base_uri": "https://localhost:8080/"
        },
        "id": "VPWW_Gy2VJfu",
        "outputId": "c8db282c-656d-4284-c151-607507250409"
      },
      "execution_count": null,
      "outputs": [
        {
          "output_type": "stream",
          "name": "stdout",
          "text": [
            "8\n"
          ]
        }
      ]
    },
    {
      "cell_type": "code",
      "source": [
        "r = multiply(2, 2)\n",
        "print(r)"
      ],
      "metadata": {
        "colab": {
          "base_uri": "https://localhost:8080/"
        },
        "id": "myp9sL1uVSXL",
        "outputId": "2fb74303-21bf-4f4b-ce8e-c87e4221ad71"
      },
      "execution_count": null,
      "outputs": [
        {
          "output_type": "stream",
          "name": "stdout",
          "text": [
            "12\n"
          ]
        }
      ]
    },
    {
      "cell_type": "code",
      "source": [
        "help(multiply)"
      ],
      "metadata": {
        "colab": {
          "base_uri": "https://localhost:8080/"
        },
        "id": "3QxCDEVmWBvA",
        "outputId": "67966a17-c98c-4138-93d2-d6dfbb20a27c"
      },
      "execution_count": null,
      "outputs": [
        {
          "output_type": "stream",
          "name": "stdout",
          "text": [
            "Help on function multiply in module __main__:\n",
            "\n",
            "multiply(a, b, c=3)\n",
            "    Multiply the values\n",
            "    Parameters:\n",
            "    a: number 1\n",
            "    b: number 2\n",
            "    \n",
            "    Optional:\n",
            "    c: default value 3\n",
            "\n"
          ]
        }
      ]
    },
    {
      "cell_type": "code",
      "source": [
        "help(print)"
      ],
      "metadata": {
        "colab": {
          "base_uri": "https://localhost:8080/"
        },
        "id": "83doE6XxWTzx",
        "outputId": "c5d2157e-2d93-4eb3-dc7a-85534c2c311a"
      },
      "execution_count": null,
      "outputs": [
        {
          "output_type": "stream",
          "name": "stdout",
          "text": [
            "Help on built-in function print in module builtins:\n",
            "\n",
            "print(...)\n",
            "    print(value, ..., sep=' ', end='\\n', file=sys.stdout, flush=False)\n",
            "    \n",
            "    Prints the values to a stream, or to sys.stdout by default.\n",
            "    Optional keyword arguments:\n",
            "    file:  a file-like object (stream); defaults to the current sys.stdout.\n",
            "    sep:   string inserted between values, default a space.\n",
            "    end:   string appended after the last value, default a newline.\n",
            "    flush: whether to forcibly flush the stream.\n",
            "\n"
          ]
        }
      ]
    },
    {
      "cell_type": "markdown",
      "source": [
        "# Collections"
      ],
      "metadata": {
        "id": "Q4zvMDPfZkZS"
      }
    },
    {
      "cell_type": "markdown",
      "source": [
        "## Tuple"
      ],
      "metadata": {
        "id": "ixF35b75Zl9V"
      }
    },
    {
      "cell_type": "code",
      "source": [
        "tuple1 = ('Dog', 'Cat', 'Horse')"
      ],
      "metadata": {
        "id": "zcATteH_gTrq"
      },
      "execution_count": null,
      "outputs": []
    },
    {
      "cell_type": "code",
      "source": [
        "tuple1"
      ],
      "metadata": {
        "colab": {
          "base_uri": "https://localhost:8080/"
        },
        "id": "pvKmkMv_gpzk",
        "outputId": "8f89faff-82a8-4fd0-f3fc-43630a2cf460"
      },
      "execution_count": null,
      "outputs": [
        {
          "output_type": "execute_result",
          "data": {
            "text/plain": [
              "('Dog', 'Cat', 'Horse')"
            ]
          },
          "metadata": {},
          "execution_count": 152
        }
      ]
    },
    {
      "cell_type": "code",
      "source": [
        "tuple1[0]"
      ],
      "metadata": {
        "colab": {
          "base_uri": "https://localhost:8080/",
          "height": 37
        },
        "id": "G3zsjRpyg4uY",
        "outputId": "e9893eeb-db65-4ce6-921c-f70e6a0a07db"
      },
      "execution_count": null,
      "outputs": [
        {
          "output_type": "execute_result",
          "data": {
            "text/plain": [
              "'Dog'"
            ],
            "application/vnd.google.colaboratory.intrinsic+json": {
              "type": "string"
            }
          },
          "metadata": {},
          "execution_count": 157
        }
      ]
    },
    {
      "cell_type": "code",
      "source": [
        "tuple1.index('Horse')"
      ],
      "metadata": {
        "colab": {
          "base_uri": "https://localhost:8080/"
        },
        "id": "jiaH4H31hFb5",
        "outputId": "2975f017-4ab0-4765-ea79-3e39f4800ded"
      },
      "execution_count": null,
      "outputs": [
        {
          "output_type": "execute_result",
          "data": {
            "text/plain": [
              "2"
            ]
          },
          "metadata": {},
          "execution_count": 163
        }
      ]
    },
    {
      "cell_type": "code",
      "source": [
        "for element in tuple1:\n",
        "  print(element)"
      ],
      "metadata": {
        "colab": {
          "base_uri": "https://localhost:8080/"
        },
        "id": "fAeSjZ_fhV9j",
        "outputId": "c1c9257b-e5e3-484f-fdfa-533184a179b7"
      },
      "execution_count": null,
      "outputs": [
        {
          "output_type": "stream",
          "name": "stdout",
          "text": [
            "Dog\n",
            "Cat\n",
            "Horse\n"
          ]
        }
      ]
    },
    {
      "cell_type": "markdown",
      "source": [
        "## List"
      ],
      "metadata": {
        "id": "DaTtMhDZZm_O"
      }
    },
    {
      "cell_type": "code",
      "source": [
        "list1 = ['Cat', 'Dog', 'Horse']\n",
        "list2 = ['Bird', 'Snake']"
      ],
      "metadata": {
        "id": "PR8TXltFhbmy"
      },
      "execution_count": null,
      "outputs": []
    },
    {
      "cell_type": "code",
      "source": [
        "list1"
      ],
      "metadata": {
        "colab": {
          "base_uri": "https://localhost:8080/"
        },
        "id": "BnnWnzZHhq1e",
        "outputId": "f0971b59-039b-4527-ff96-ed84116d7576"
      },
      "execution_count": null,
      "outputs": [
        {
          "output_type": "execute_result",
          "data": {
            "text/plain": [
              "['Cat', 'Dog', 'Horse']"
            ]
          },
          "metadata": {},
          "execution_count": 166
        }
      ]
    },
    {
      "cell_type": "code",
      "source": [
        "list2"
      ],
      "metadata": {
        "colab": {
          "base_uri": "https://localhost:8080/"
        },
        "id": "39NJltf1hsh-",
        "outputId": "5b8cb7b3-0dff-4b5f-f1d4-99e13e2702d2"
      },
      "execution_count": null,
      "outputs": [
        {
          "output_type": "execute_result",
          "data": {
            "text/plain": [
              "['Bird', 'Snake']"
            ]
          },
          "metadata": {},
          "execution_count": 168
        }
      ]
    },
    {
      "cell_type": "code",
      "source": [
        "list3 = list1 + list2"
      ],
      "metadata": {
        "id": "29UdjxWqhw_1"
      },
      "execution_count": null,
      "outputs": []
    },
    {
      "cell_type": "code",
      "source": [
        "list3"
      ],
      "metadata": {
        "colab": {
          "base_uri": "https://localhost:8080/"
        },
        "id": "4lXybpJmh07q",
        "outputId": "e3df5c65-b5ff-497a-8964-0a8624c19da5"
      },
      "execution_count": null,
      "outputs": [
        {
          "output_type": "execute_result",
          "data": {
            "text/plain": [
              "['Cat', 'Dog', 'Horse', 'Bird', 'Snake']"
            ]
          },
          "metadata": {},
          "execution_count": 170
        }
      ]
    },
    {
      "cell_type": "code",
      "source": [
        "list2"
      ],
      "metadata": {
        "colab": {
          "base_uri": "https://localhost:8080/"
        },
        "id": "QeChXq2uh8Yk",
        "outputId": "befd3cd1-2030-4625-8501-1164fb71a84c"
      },
      "execution_count": null,
      "outputs": [
        {
          "output_type": "execute_result",
          "data": {
            "text/plain": [
              "['Bird', 'Snake']"
            ]
          },
          "metadata": {},
          "execution_count": 171
        }
      ]
    },
    {
      "cell_type": "code",
      "source": [
        "list2_2 = list2 * 3"
      ],
      "metadata": {
        "id": "8wGplnS9h_fW"
      },
      "execution_count": null,
      "outputs": []
    },
    {
      "cell_type": "code",
      "source": [
        "list2_2"
      ],
      "metadata": {
        "colab": {
          "base_uri": "https://localhost:8080/"
        },
        "id": "pVq5-NCriC6v",
        "outputId": "4f33d981-b916-4d79-cc87-25745bfe4b58"
      },
      "execution_count": null,
      "outputs": [
        {
          "output_type": "execute_result",
          "data": {
            "text/plain": [
              "['Bird', 'Snake', 'Bird', 'Snake', 'Bird', 'Snake']"
            ]
          },
          "metadata": {},
          "execution_count": 175
        }
      ]
    },
    {
      "cell_type": "code",
      "source": [
        "list1"
      ],
      "metadata": {
        "colab": {
          "base_uri": "https://localhost:8080/"
        },
        "id": "Ggo98M5BiNga",
        "outputId": "d6aeb3ad-4f41-4bd6-9041-bc01f66bc285"
      },
      "execution_count": null,
      "outputs": [
        {
          "output_type": "execute_result",
          "data": {
            "text/plain": [
              "['Cat', 'Dog', 'Horse']"
            ]
          },
          "metadata": {},
          "execution_count": 176
        }
      ]
    },
    {
      "cell_type": "code",
      "source": [
        "list1[0], list1[1], list1[2]"
      ],
      "metadata": {
        "colab": {
          "base_uri": "https://localhost:8080/"
        },
        "id": "llU1SlKUiQJT",
        "outputId": "7332e99a-17ab-42ee-f405-a77d3c806539"
      },
      "execution_count": null,
      "outputs": [
        {
          "output_type": "execute_result",
          "data": {
            "text/plain": [
              "('Cat', 'Dog', 'Horse')"
            ]
          },
          "metadata": {},
          "execution_count": 178
        }
      ]
    },
    {
      "cell_type": "code",
      "source": [
        "list1[0:2]"
      ],
      "metadata": {
        "colab": {
          "base_uri": "https://localhost:8080/"
        },
        "id": "O0hcOb_7ichY",
        "outputId": "e75f19ec-6a4c-49f0-cd6a-24b1767e8365"
      },
      "execution_count": null,
      "outputs": [
        {
          "output_type": "execute_result",
          "data": {
            "text/plain": [
              "['Cat', 'Dog']"
            ]
          },
          "metadata": {},
          "execution_count": 179
        }
      ]
    },
    {
      "cell_type": "code",
      "source": [
        "list1.append('Monkey')"
      ],
      "metadata": {
        "id": "x-r1fiMDijDM"
      },
      "execution_count": null,
      "outputs": []
    },
    {
      "cell_type": "code",
      "source": [
        "list1"
      ],
      "metadata": {
        "colab": {
          "base_uri": "https://localhost:8080/"
        },
        "id": "cAUvhU6UintJ",
        "outputId": "bd014428-6647-4356-8223-6aa1c2ed50a0"
      },
      "execution_count": null,
      "outputs": [
        {
          "output_type": "execute_result",
          "data": {
            "text/plain": [
              "['Cat', 'Dog', 'Horse', 'Monkey']"
            ]
          },
          "metadata": {},
          "execution_count": 181
        }
      ]
    },
    {
      "cell_type": "code",
      "source": [
        "list1.remove('Cat')"
      ],
      "metadata": {
        "id": "ATiX-_APiuun"
      },
      "execution_count": null,
      "outputs": []
    },
    {
      "cell_type": "code",
      "source": [
        "list1"
      ],
      "metadata": {
        "colab": {
          "base_uri": "https://localhost:8080/"
        },
        "id": "gkvAvXnuiyOD",
        "outputId": "370ce7ae-ed3c-4d2f-f62e-1b31e4365532"
      },
      "execution_count": null,
      "outputs": [
        {
          "output_type": "execute_result",
          "data": {
            "text/plain": [
              "['Dog', 'Horse', 'Monkey']"
            ]
          },
          "metadata": {},
          "execution_count": 183
        }
      ]
    },
    {
      "cell_type": "code",
      "source": [
        "del(list1)"
      ],
      "metadata": {
        "id": "THiVxUtNi2IL"
      },
      "execution_count": null,
      "outputs": []
    },
    {
      "cell_type": "code",
      "source": [
        "list1"
      ],
      "metadata": {
        "colab": {
          "base_uri": "https://localhost:8080/",
          "height": 168
        },
        "id": "Ac5LDaNgi42k",
        "outputId": "a9608405-9ad0-4774-d64d-8f5ddeba91ac"
      },
      "execution_count": null,
      "outputs": [
        {
          "output_type": "error",
          "ename": "NameError",
          "evalue": "ignored",
          "traceback": [
            "\u001b[0;31m---------------------------------------------------------------------------\u001b[0m",
            "\u001b[0;31mNameError\u001b[0m                                 Traceback (most recent call last)",
            "\u001b[0;32m<ipython-input-185-32e3a55f6bef>\u001b[0m in \u001b[0;36m<module>\u001b[0;34m\u001b[0m\n\u001b[0;32m----> 1\u001b[0;31m \u001b[0mlist1\u001b[0m\u001b[0;34m\u001b[0m\u001b[0;34m\u001b[0m\u001b[0m\n\u001b[0m",
            "\u001b[0;31mNameError\u001b[0m: name 'list1' is not defined"
          ]
        }
      ]
    },
    {
      "cell_type": "code",
      "source": [
        "list2_2"
      ],
      "metadata": {
        "colab": {
          "base_uri": "https://localhost:8080/"
        },
        "id": "Nh0E6bEni9Vc",
        "outputId": "a08d1c6e-86aa-43f6-e8cf-aefdbd387236"
      },
      "execution_count": null,
      "outputs": [
        {
          "output_type": "execute_result",
          "data": {
            "text/plain": [
              "['Bird', 'Snake', 'Bird', 'Snake', 'Bird', 'Snake']"
            ]
          },
          "metadata": {},
          "execution_count": 186
        }
      ]
    },
    {
      "cell_type": "code",
      "source": [
        "for item in list2_2:\n",
        "  print(item)"
      ],
      "metadata": {
        "colab": {
          "base_uri": "https://localhost:8080/"
        },
        "id": "zBTS8AOsjB9o",
        "outputId": "96ac9dce-82e8-4eb1-8f45-e365e869f7bf"
      },
      "execution_count": null,
      "outputs": [
        {
          "output_type": "stream",
          "name": "stdout",
          "text": [
            "Bird\n",
            "Snake\n",
            "Bird\n",
            "Snake\n",
            "Bird\n",
            "Snake\n"
          ]
        }
      ]
    },
    {
      "cell_type": "markdown",
      "source": [
        "## Dictionary"
      ],
      "metadata": {
        "id": "m6z1Z8aBZoGP"
      }
    },
    {
      "cell_type": "code",
      "source": [
        "animal = {'Dog': 32, 'Cat': 22, 'Horse': 14}"
      ],
      "metadata": {
        "id": "9zFnXWN3jjib"
      },
      "execution_count": null,
      "outputs": []
    },
    {
      "cell_type": "code",
      "source": [
        "animal['Dog']"
      ],
      "metadata": {
        "colab": {
          "base_uri": "https://localhost:8080/"
        },
        "id": "6NPfWxlpj8N7",
        "outputId": "e07a7161-97b9-4b1c-fbdb-730e8c719da5"
      },
      "execution_count": null,
      "outputs": [
        {
          "output_type": "execute_result",
          "data": {
            "text/plain": [
              "32"
            ]
          },
          "metadata": {},
          "execution_count": 190
        }
      ]
    },
    {
      "cell_type": "code",
      "source": [
        "animal['Monkey'] = 11"
      ],
      "metadata": {
        "id": "RM2Lbk2WkGZl"
      },
      "execution_count": null,
      "outputs": []
    },
    {
      "cell_type": "code",
      "source": [
        "animal"
      ],
      "metadata": {
        "colab": {
          "base_uri": "https://localhost:8080/"
        },
        "id": "SbtV83E5kNIl",
        "outputId": "e2893875-ce6b-4900-eeea-1237b98b1937"
      },
      "execution_count": null,
      "outputs": [
        {
          "output_type": "execute_result",
          "data": {
            "text/plain": [
              "{'Dog': 32, 'Cat': 22, 'Horse': 14, 'Monkey': 11}"
            ]
          },
          "metadata": {},
          "execution_count": 192
        }
      ]
    },
    {
      "cell_type": "code",
      "source": [
        "print(animal)"
      ],
      "metadata": {
        "colab": {
          "base_uri": "https://localhost:8080/"
        },
        "id": "n3iJBmV3kQ6S",
        "outputId": "6df65fd9-835c-4a30-964f-4ce8e3927cbc"
      },
      "execution_count": null,
      "outputs": [
        {
          "output_type": "stream",
          "name": "stdout",
          "text": [
            "{'Dog': 32, 'Cat': 22, 'Horse': 14, 'Monkey': 11}\n"
          ]
        }
      ]
    },
    {
      "cell_type": "code",
      "source": [
        "del(animal)['Horse']"
      ],
      "metadata": {
        "id": "5i0o9k2MkUWi"
      },
      "execution_count": null,
      "outputs": []
    },
    {
      "cell_type": "code",
      "source": [
        "animal"
      ],
      "metadata": {
        "colab": {
          "base_uri": "https://localhost:8080/"
        },
        "id": "j2QbiYgikYb7",
        "outputId": "bc09d463-62b3-47b3-da45-300caf3d8eb8"
      },
      "execution_count": null,
      "outputs": [
        {
          "output_type": "execute_result",
          "data": {
            "text/plain": [
              "{'Dog': 32, 'Cat': 22, 'Monkey': 11}"
            ]
          },
          "metadata": {},
          "execution_count": 195
        }
      ]
    },
    {
      "cell_type": "code",
      "source": [
        "animal.items()"
      ],
      "metadata": {
        "colab": {
          "base_uri": "https://localhost:8080/"
        },
        "id": "qBBICmd3keVV",
        "outputId": "8391422e-0637-45e5-bbd5-813bd4c506d6"
      },
      "execution_count": null,
      "outputs": [
        {
          "output_type": "execute_result",
          "data": {
            "text/plain": [
              "dict_items([('Dog', 32), ('Cat', 22), ('Monkey', 11)])"
            ]
          },
          "metadata": {},
          "execution_count": 196
        }
      ]
    },
    {
      "cell_type": "code",
      "source": [
        "animal.keys()"
      ],
      "metadata": {
        "colab": {
          "base_uri": "https://localhost:8080/"
        },
        "id": "4PN89W0IkidW",
        "outputId": "77cd48e5-473b-4e86-a2f8-f2c286b2e501"
      },
      "execution_count": null,
      "outputs": [
        {
          "output_type": "execute_result",
          "data": {
            "text/plain": [
              "dict_keys(['Dog', 'Cat', 'Monkey'])"
            ]
          },
          "metadata": {},
          "execution_count": 197
        }
      ]
    },
    {
      "cell_type": "code",
      "source": [
        "animal.values()"
      ],
      "metadata": {
        "colab": {
          "base_uri": "https://localhost:8080/"
        },
        "id": "9K5XBVvvklK2",
        "outputId": "bebbe8fd-e488-4abc-b004-de39ccd2dc82"
      },
      "execution_count": null,
      "outputs": [
        {
          "output_type": "execute_result",
          "data": {
            "text/plain": [
              "dict_values([32, 22, 11])"
            ]
          },
          "metadata": {},
          "execution_count": 198
        }
      ]
    },
    {
      "cell_type": "code",
      "source": [
        "animal2 = {'Bird': 13, 'Snake': 14}\n",
        "animal2"
      ],
      "metadata": {
        "colab": {
          "base_uri": "https://localhost:8080/"
        },
        "id": "bttRpvpkkxRT",
        "outputId": "522e820d-7fb4-4dd9-a510-8789590fc04a"
      },
      "execution_count": null,
      "outputs": [
        {
          "output_type": "execute_result",
          "data": {
            "text/plain": [
              "{'Bird': 13, 'Snake': 14}"
            ]
          },
          "metadata": {},
          "execution_count": 199
        }
      ]
    },
    {
      "cell_type": "code",
      "source": [
        "animal.update(animal2)"
      ],
      "metadata": {
        "id": "qpuA6-4yk6hY"
      },
      "execution_count": null,
      "outputs": []
    },
    {
      "cell_type": "code",
      "source": [
        "print(animal)"
      ],
      "metadata": {
        "colab": {
          "base_uri": "https://localhost:8080/"
        },
        "id": "hcWUvMF5k-H3",
        "outputId": "6968e5f4-1b3b-489d-b100-09a3be18cff5"
      },
      "execution_count": null,
      "outputs": [
        {
          "output_type": "stream",
          "name": "stdout",
          "text": [
            "{'Dog': 32, 'Cat': 22, 'Monkey': 11, 'Bird': 13, 'Snake': 14}\n"
          ]
        }
      ]
    },
    {
      "cell_type": "code",
      "source": [
        "animal.items()"
      ],
      "metadata": {
        "colab": {
          "base_uri": "https://localhost:8080/"
        },
        "id": "AR6tI7XrlD6W",
        "outputId": "35945ba4-6a18-4ddb-a92a-1de31ea8aa3f"
      },
      "execution_count": null,
      "outputs": [
        {
          "output_type": "execute_result",
          "data": {
            "text/plain": [
              "dict_items([('Dog', 32), ('Cat', 22), ('Monkey', 11), ('Bird', 13), ('Snake', 14)])"
            ]
          },
          "metadata": {},
          "execution_count": 202
        }
      ]
    },
    {
      "cell_type": "code",
      "source": [
        "for a, v in animal.items():\n",
        "  print(a, v)"
      ],
      "metadata": {
        "colab": {
          "base_uri": "https://localhost:8080/"
        },
        "id": "G6GgUNkKlHJ0",
        "outputId": "cabf8b63-43fb-4001-96a1-a9ca30c959ce"
      },
      "execution_count": null,
      "outputs": [
        {
          "output_type": "stream",
          "name": "stdout",
          "text": [
            "Dog 32\n",
            "Cat 22\n",
            "Monkey 11\n",
            "Bird 13\n",
            "Snake 14\n"
          ]
        }
      ]
    },
    {
      "cell_type": "markdown",
      "source": [
        "## Set"
      ],
      "metadata": {
        "id": "EMmarkUyZsOc"
      }
    },
    {
      "cell_type": "code",
      "source": [
        "set1 = ('A', 'B', 'C', 'D', 'B', 'C', 'C', 'C')"
      ],
      "metadata": {
        "id": "kdoLYZUIlhEd"
      },
      "execution_count": null,
      "outputs": []
    },
    {
      "cell_type": "code",
      "source": [
        "set1"
      ],
      "metadata": {
        "colab": {
          "base_uri": "https://localhost:8080/"
        },
        "id": "uF8dZaQSlwSk",
        "outputId": "0bd66940-f148-481d-c994-0650177f5e2f"
      },
      "execution_count": null,
      "outputs": [
        {
          "output_type": "execute_result",
          "data": {
            "text/plain": [
              "('A', 'B', 'C', 'D', 'B', 'C', 'C', 'C')"
            ]
          },
          "metadata": {},
          "execution_count": 205
        }
      ]
    },
    {
      "cell_type": "code",
      "source": [
        "print(set(set1))"
      ],
      "metadata": {
        "colab": {
          "base_uri": "https://localhost:8080/"
        },
        "id": "IZUlbvGRl9DE",
        "outputId": "fe6de9e0-0cd9-4dbd-9ac7-e630d2867a1d"
      },
      "execution_count": null,
      "outputs": [
        {
          "output_type": "stream",
          "name": "stdout",
          "text": [
            "{'D', 'C', 'A', 'B'}\n"
          ]
        }
      ]
    },
    {
      "cell_type": "code",
      "source": [
        "s1 = {1,2,3,4,5}\n",
        "s2 = {3,4,5,6,7}"
      ],
      "metadata": {
        "id": "388asjNFmP4Z"
      },
      "execution_count": null,
      "outputs": []
    },
    {
      "cell_type": "code",
      "source": [
        "s3 = s1.intersection(s2)\n",
        "print(s3)"
      ],
      "metadata": {
        "colab": {
          "base_uri": "https://localhost:8080/"
        },
        "id": "Xq7JfwDwmZbm",
        "outputId": "44cc109d-00ad-4de8-c09e-613fafd08b6e"
      },
      "execution_count": null,
      "outputs": [
        {
          "output_type": "stream",
          "name": "stdout",
          "text": [
            "{3, 4, 5}\n"
          ]
        }
      ]
    },
    {
      "cell_type": "code",
      "source": [
        "s1.difference(s2)"
      ],
      "metadata": {
        "colab": {
          "base_uri": "https://localhost:8080/"
        },
        "id": "0Rlbrtu8mp60",
        "outputId": "c620ea5c-3cf7-4c12-e224-33360c84afe2"
      },
      "execution_count": null,
      "outputs": [
        {
          "output_type": "execute_result",
          "data": {
            "text/plain": [
              "{1, 2}"
            ]
          },
          "metadata": {},
          "execution_count": 209
        }
      ]
    },
    {
      "cell_type": "code",
      "source": [
        "s2.difference(s1)"
      ],
      "metadata": {
        "colab": {
          "base_uri": "https://localhost:8080/"
        },
        "id": "0UhvSnD1m0b6",
        "outputId": "6eb7af32-3372-4ef1-b6be-0407824017f2"
      },
      "execution_count": null,
      "outputs": [
        {
          "output_type": "execute_result",
          "data": {
            "text/plain": [
              "{6, 7}"
            ]
          },
          "metadata": {},
          "execution_count": 210
        }
      ]
    },
    {
      "cell_type": "markdown",
      "source": [
        "## Matrix"
      ],
      "metadata": {
        "id": "maDoPa41gM8_"
      }
    },
    {
      "cell_type": "code",
      "source": [
        "import numpy"
      ],
      "metadata": {
        "id": "3XieOFh5nX8q"
      },
      "execution_count": null,
      "outputs": []
    },
    {
      "cell_type": "code",
      "source": [
        "matrix = numpy.array([[2,3,1],\n",
        "                      [4,5,7]])"
      ],
      "metadata": {
        "id": "FyV_jF88nf3s"
      },
      "execution_count": null,
      "outputs": []
    },
    {
      "cell_type": "code",
      "source": [
        "matrix"
      ],
      "metadata": {
        "colab": {
          "base_uri": "https://localhost:8080/"
        },
        "id": "R9Oayh6gny0G",
        "outputId": "5537fbcc-9aa2-4c9f-cfc3-28abca7ee02d"
      },
      "execution_count": null,
      "outputs": [
        {
          "output_type": "execute_result",
          "data": {
            "text/plain": [
              "array([[2, 3, 1],\n",
              "       [4, 5, 7]])"
            ]
          },
          "metadata": {},
          "execution_count": 213
        }
      ]
    },
    {
      "cell_type": "code",
      "source": [
        "matrix.shape"
      ],
      "metadata": {
        "colab": {
          "base_uri": "https://localhost:8080/"
        },
        "id": "VOONrFtvn3Kf",
        "outputId": "99fa55d6-b40a-4bd9-f532-c0b8a64990f0"
      },
      "execution_count": null,
      "outputs": [
        {
          "output_type": "execute_result",
          "data": {
            "text/plain": [
              "(2, 3)"
            ]
          },
          "metadata": {},
          "execution_count": 214
        }
      ]
    },
    {
      "cell_type": "code",
      "source": [
        "matrix[0]"
      ],
      "metadata": {
        "colab": {
          "base_uri": "https://localhost:8080/"
        },
        "id": "fnIxCAWNn628",
        "outputId": "3cafc4c2-3937-4e87-8c6d-bbd9760ec329"
      },
      "execution_count": null,
      "outputs": [
        {
          "output_type": "execute_result",
          "data": {
            "text/plain": [
              "array([2, 3, 1])"
            ]
          },
          "metadata": {},
          "execution_count": 215
        }
      ]
    },
    {
      "cell_type": "code",
      "source": [
        "matrix[1]"
      ],
      "metadata": {
        "colab": {
          "base_uri": "https://localhost:8080/"
        },
        "id": "uqFOz4KsoAlo",
        "outputId": "dfec4516-299d-45fe-f351-4c588faeebc2"
      },
      "execution_count": null,
      "outputs": [
        {
          "output_type": "execute_result",
          "data": {
            "text/plain": [
              "array([4, 5, 7])"
            ]
          },
          "metadata": {},
          "execution_count": 216
        }
      ]
    },
    {
      "cell_type": "code",
      "source": [
        "matrix[0][1]"
      ],
      "metadata": {
        "colab": {
          "base_uri": "https://localhost:8080/"
        },
        "id": "sbRRUhEFoFTE",
        "outputId": "823acb50-af7f-487a-ae57-0620acc9abdc"
      },
      "execution_count": null,
      "outputs": [
        {
          "output_type": "execute_result",
          "data": {
            "text/plain": [
              "3"
            ]
          },
          "metadata": {},
          "execution_count": 217
        }
      ]
    },
    {
      "cell_type": "code",
      "source": [
        "matrix[1][2]"
      ],
      "metadata": {
        "colab": {
          "base_uri": "https://localhost:8080/"
        },
        "id": "ZxCsRTPmoPza",
        "outputId": "a42a0266-15ec-4f83-b36b-85040c92a87c"
      },
      "execution_count": null,
      "outputs": [
        {
          "output_type": "execute_result",
          "data": {
            "text/plain": [
              "7"
            ]
          },
          "metadata": {},
          "execution_count": 218
        }
      ]
    },
    {
      "cell_type": "code",
      "source": [
        "matrix.shape[0]"
      ],
      "metadata": {
        "colab": {
          "base_uri": "https://localhost:8080/"
        },
        "id": "H72VvMyToeHu",
        "outputId": "73684e72-93c7-4f91-93c3-a632bd6dd971"
      },
      "execution_count": null,
      "outputs": [
        {
          "output_type": "execute_result",
          "data": {
            "text/plain": [
              "2"
            ]
          },
          "metadata": {},
          "execution_count": 220
        }
      ]
    },
    {
      "cell_type": "code",
      "source": [
        "matrix.shape[1]"
      ],
      "metadata": {
        "colab": {
          "base_uri": "https://localhost:8080/"
        },
        "id": "snqnzSuNo5HA",
        "outputId": "8cd84adb-97c1-4437-bc0b-424df352094b"
      },
      "execution_count": null,
      "outputs": [
        {
          "output_type": "execute_result",
          "data": {
            "text/plain": [
              "3"
            ]
          },
          "metadata": {},
          "execution_count": 225
        }
      ]
    },
    {
      "cell_type": "code",
      "source": [
        "for row in range(matrix.shape[0]):\n",
        "  #print(row)\n",
        "  #print(matrix[row])\n",
        "  for column in range(matrix.shape[1]):\n",
        "    #print(column)\n",
        "    print(matrix[row][column])"
      ],
      "metadata": {
        "colab": {
          "base_uri": "https://localhost:8080/"
        },
        "id": "5KwHnER3oZDP",
        "outputId": "a4d9ca6e-a49a-464d-be6f-ce954cadcf08"
      },
      "execution_count": null,
      "outputs": [
        {
          "output_type": "stream",
          "name": "stdout",
          "text": [
            "2\n",
            "3\n",
            "1\n",
            "4\n",
            "5\n",
            "7\n"
          ]
        }
      ]
    },
    {
      "cell_type": "markdown",
      "source": [
        "# Math\n",
        "\n",
        "- Documentation: https://docs.python.org/3/library/math.html"
      ],
      "metadata": {
        "id": "-skOgg_XO7SL"
      }
    },
    {
      "cell_type": "code",
      "source": [
        "import math"
      ],
      "metadata": {
        "id": "0S0gJhLbp8Qh"
      },
      "execution_count": null,
      "outputs": []
    },
    {
      "cell_type": "code",
      "source": [
        "math.sqrt(9)"
      ],
      "metadata": {
        "colab": {
          "base_uri": "https://localhost:8080/"
        },
        "id": "lXKOtBbQqAtp",
        "outputId": "f1d268fd-1516-49e9-885d-0b7e7ecf9a9f"
      },
      "execution_count": null,
      "outputs": [
        {
          "output_type": "execute_result",
          "data": {
            "text/plain": [
              "3.0"
            ]
          },
          "metadata": {},
          "execution_count": 22
        }
      ]
    },
    {
      "cell_type": "code",
      "source": [
        "math.sin(45)"
      ],
      "metadata": {
        "colab": {
          "base_uri": "https://localhost:8080/"
        },
        "id": "S2ARVoCGqRys",
        "outputId": "0c3524d5-feec-4bcc-b5c1-65ff2aaa6b5e"
      },
      "execution_count": null,
      "outputs": [
        {
          "output_type": "execute_result",
          "data": {
            "text/plain": [
              "0.8509035245341184"
            ]
          },
          "metadata": {},
          "execution_count": 23
        }
      ]
    },
    {
      "cell_type": "code",
      "source": [
        "math.cos(45)"
      ],
      "metadata": {
        "colab": {
          "base_uri": "https://localhost:8080/"
        },
        "id": "MqwLPRrkqVl0",
        "outputId": "e7445f8d-79c8-4eef-8caf-afcdb0cfc2a3"
      },
      "execution_count": null,
      "outputs": [
        {
          "output_type": "execute_result",
          "data": {
            "text/plain": [
              "0.5253219888177297"
            ]
          },
          "metadata": {},
          "execution_count": 24
        }
      ]
    },
    {
      "cell_type": "code",
      "source": [
        "math.log(1000, 10)"
      ],
      "metadata": {
        "colab": {
          "base_uri": "https://localhost:8080/"
        },
        "id": "DtfHpiDTqdW6",
        "outputId": "c72aa515-01b0-4eb9-a9ad-88b0c5e89e74"
      },
      "execution_count": null,
      "outputs": [
        {
          "output_type": "execute_result",
          "data": {
            "text/plain": [
              "2.9999999999999996"
            ]
          },
          "metadata": {},
          "execution_count": 25
        }
      ]
    },
    {
      "cell_type": "code",
      "source": [
        "math.log(32, 2)"
      ],
      "metadata": {
        "colab": {
          "base_uri": "https://localhost:8080/"
        },
        "id": "9vXs59dCqmF_",
        "outputId": "03147266-3750-490a-c8d8-f3e76b8b8f46"
      },
      "execution_count": null,
      "outputs": [
        {
          "output_type": "execute_result",
          "data": {
            "text/plain": [
              "5.0"
            ]
          },
          "metadata": {},
          "execution_count": 26
        }
      ]
    },
    {
      "cell_type": "code",
      "source": [
        "math.log(1000)"
      ],
      "metadata": {
        "colab": {
          "base_uri": "https://localhost:8080/"
        },
        "id": "WgWgXbAvqq4s",
        "outputId": "72619f4f-ff3c-4301-9949-5ceba333307c"
      },
      "execution_count": null,
      "outputs": [
        {
          "output_type": "execute_result",
          "data": {
            "text/plain": [
              "6.907755278982137"
            ]
          },
          "metadata": {},
          "execution_count": 27
        }
      ]
    },
    {
      "cell_type": "code",
      "source": [
        "math.e"
      ],
      "metadata": {
        "colab": {
          "base_uri": "https://localhost:8080/"
        },
        "id": "pohWVctMqyCQ",
        "outputId": "f550c3ee-490e-41cf-df4d-246626a1e485"
      },
      "execution_count": null,
      "outputs": [
        {
          "output_type": "execute_result",
          "data": {
            "text/plain": [
              "2.718281828459045"
            ]
          },
          "metadata": {},
          "execution_count": 28
        }
      ]
    },
    {
      "cell_type": "code",
      "source": [
        "math.log(1000, math.e)"
      ],
      "metadata": {
        "colab": {
          "base_uri": "https://localhost:8080/"
        },
        "id": "5TTEMUWUq4bG",
        "outputId": "9e807a8d-8e57-4b01-d709-42293b125c99"
      },
      "execution_count": null,
      "outputs": [
        {
          "output_type": "execute_result",
          "data": {
            "text/plain": [
              "6.907755278982137"
            ]
          },
          "metadata": {},
          "execution_count": 29
        }
      ]
    },
    {
      "cell_type": "code",
      "source": [
        "math.pi"
      ],
      "metadata": {
        "colab": {
          "base_uri": "https://localhost:8080/"
        },
        "id": "IspJfTJsq8sc",
        "outputId": "0bf7b380-48bf-40a1-de02-40fbb97826aa"
      },
      "execution_count": null,
      "outputs": [
        {
          "output_type": "execute_result",
          "data": {
            "text/plain": [
              "3.141592653589793"
            ]
          },
          "metadata": {},
          "execution_count": 30
        }
      ]
    },
    {
      "cell_type": "markdown",
      "source": [
        "# Datetime\n",
        "\n",
        "- Documentation: https://docs.python.org/3/library/datetime.html"
      ],
      "metadata": {
        "id": "T7C7RUZDZoEw"
      }
    },
    {
      "cell_type": "code",
      "source": [
        "import datetime"
      ],
      "metadata": {
        "id": "7zPSBC_orP8b"
      },
      "execution_count": null,
      "outputs": []
    },
    {
      "cell_type": "code",
      "source": [
        "datetime.date.today()"
      ],
      "metadata": {
        "colab": {
          "base_uri": "https://localhost:8080/"
        },
        "id": "Q3oMBAKKrWjV",
        "outputId": "0bab9a1d-600f-414e-8927-91e609358e30"
      },
      "execution_count": null,
      "outputs": [
        {
          "output_type": "execute_result",
          "data": {
            "text/plain": [
              "datetime.date(2022, 9, 13)"
            ]
          },
          "metadata": {},
          "execution_count": 32
        }
      ]
    },
    {
      "cell_type": "code",
      "source": [
        "datetime.datetime.now()"
      ],
      "metadata": {
        "colab": {
          "base_uri": "https://localhost:8080/"
        },
        "id": "rw27rJ7nrg5J",
        "outputId": "b6fbdf71-4521-43b1-9915-d77f7d29f4df"
      },
      "execution_count": null,
      "outputs": [
        {
          "output_type": "execute_result",
          "data": {
            "text/plain": [
              "datetime.datetime(2022, 9, 13, 16, 28, 33, 105536)"
            ]
          },
          "metadata": {},
          "execution_count": 33
        }
      ]
    },
    {
      "cell_type": "code",
      "source": [
        "date = datetime.date(2022, 9, 13)"
      ],
      "metadata": {
        "id": "yQ7a2r2Ur4Ot"
      },
      "execution_count": null,
      "outputs": []
    },
    {
      "cell_type": "code",
      "source": [
        "date"
      ],
      "metadata": {
        "colab": {
          "base_uri": "https://localhost:8080/"
        },
        "id": "o_HLKwmmsA1D",
        "outputId": "e01a4ae1-fdae-4cdb-8ba2-b183e81fb4ff"
      },
      "execution_count": null,
      "outputs": [
        {
          "output_type": "execute_result",
          "data": {
            "text/plain": [
              "datetime.date(2022, 9, 13)"
            ]
          },
          "metadata": {},
          "execution_count": 36
        }
      ]
    },
    {
      "cell_type": "code",
      "source": [
        "date.day"
      ],
      "metadata": {
        "colab": {
          "base_uri": "https://localhost:8080/"
        },
        "id": "RqDLUCIJsFqm",
        "outputId": "3007e974-1f40-4ed7-dc6b-64cfb3a19cad"
      },
      "execution_count": null,
      "outputs": [
        {
          "output_type": "execute_result",
          "data": {
            "text/plain": [
              "13"
            ]
          },
          "metadata": {},
          "execution_count": 37
        }
      ]
    },
    {
      "cell_type": "code",
      "source": [
        "date.month"
      ],
      "metadata": {
        "colab": {
          "base_uri": "https://localhost:8080/"
        },
        "id": "B11nwg4msIoD",
        "outputId": "784be230-c549-4bce-aff9-efe63df67798"
      },
      "execution_count": null,
      "outputs": [
        {
          "output_type": "execute_result",
          "data": {
            "text/plain": [
              "9"
            ]
          },
          "metadata": {},
          "execution_count": 38
        }
      ]
    },
    {
      "cell_type": "code",
      "source": [
        "date.year"
      ],
      "metadata": {
        "colab": {
          "base_uri": "https://localhost:8080/"
        },
        "id": "Gr0rnsAssK7L",
        "outputId": "41baefe6-b252-4777-94bc-25495e728cbd"
      },
      "execution_count": null,
      "outputs": [
        {
          "output_type": "execute_result",
          "data": {
            "text/plain": [
              "2022"
            ]
          },
          "metadata": {},
          "execution_count": 39
        }
      ]
    },
    {
      "cell_type": "code",
      "source": [
        "time = datetime.datetime(2022, 9, 13, 13, 32, 0)"
      ],
      "metadata": {
        "id": "r1hq8NYBsOZL"
      },
      "execution_count": null,
      "outputs": []
    },
    {
      "cell_type": "code",
      "source": [
        "time"
      ],
      "metadata": {
        "colab": {
          "base_uri": "https://localhost:8080/"
        },
        "id": "Rz6C0xTZsiDX",
        "outputId": "d09db6f4-12ac-4b13-824a-651bd851a35c"
      },
      "execution_count": null,
      "outputs": [
        {
          "output_type": "execute_result",
          "data": {
            "text/plain": [
              "datetime.datetime(2022, 9, 13, 13, 32)"
            ]
          },
          "metadata": {},
          "execution_count": 41
        }
      ]
    },
    {
      "cell_type": "code",
      "source": [
        "time.hour"
      ],
      "metadata": {
        "colab": {
          "base_uri": "https://localhost:8080/"
        },
        "id": "MvgearKQskqL",
        "outputId": "b85a1a72-38fa-42b9-ca2f-344480cdf0fd"
      },
      "execution_count": null,
      "outputs": [
        {
          "output_type": "execute_result",
          "data": {
            "text/plain": [
              "13"
            ]
          },
          "metadata": {},
          "execution_count": 42
        }
      ]
    },
    {
      "cell_type": "code",
      "source": [
        "time.minute"
      ],
      "metadata": {
        "colab": {
          "base_uri": "https://localhost:8080/"
        },
        "id": "Z24K1Fq5snva",
        "outputId": "5b916f0d-4dc9-42c3-8f57-25d3e22cbbde"
      },
      "execution_count": null,
      "outputs": [
        {
          "output_type": "execute_result",
          "data": {
            "text/plain": [
              "32"
            ]
          },
          "metadata": {},
          "execution_count": 43
        }
      ]
    },
    {
      "cell_type": "code",
      "source": [
        "time.second"
      ],
      "metadata": {
        "colab": {
          "base_uri": "https://localhost:8080/"
        },
        "id": "9lT0029ksqUG",
        "outputId": "ffdacf56-1b33-4efb-a845-834f88b7a566"
      },
      "execution_count": null,
      "outputs": [
        {
          "output_type": "execute_result",
          "data": {
            "text/plain": [
              "0"
            ]
          },
          "metadata": {},
          "execution_count": 44
        }
      ]
    },
    {
      "cell_type": "markdown",
      "source": [
        "# Random\n",
        "\n",
        "- Documentation: https://docs.python.org/3/library/random.html"
      ],
      "metadata": {
        "id": "_XnnKj4laTCm"
      }
    },
    {
      "cell_type": "code",
      "source": [
        "import random"
      ],
      "metadata": {
        "id": "YtpdgziyuOCc"
      },
      "execution_count": null,
      "outputs": []
    },
    {
      "cell_type": "code",
      "source": [
        "random.random()"
      ],
      "metadata": {
        "colab": {
          "base_uri": "https://localhost:8080/"
        },
        "id": "f_RT0Wo_uSUp",
        "outputId": "a13d46de-0530-45ca-a4c8-70b5dc1f2dd7"
      },
      "execution_count": null,
      "outputs": [
        {
          "output_type": "execute_result",
          "data": {
            "text/plain": [
              "0.7300992753581425"
            ]
          },
          "metadata": {},
          "execution_count": 53
        }
      ]
    },
    {
      "cell_type": "code",
      "source": [
        "random.randint(1, 10)"
      ],
      "metadata": {
        "colab": {
          "base_uri": "https://localhost:8080/"
        },
        "id": "iSRVHX_fuliO",
        "outputId": "c117309c-f9f8-413e-bfe2-89f32f0609fc"
      },
      "execution_count": null,
      "outputs": [
        {
          "output_type": "execute_result",
          "data": {
            "text/plain": [
              "6"
            ]
          },
          "metadata": {},
          "execution_count": 64
        }
      ]
    },
    {
      "cell_type": "code",
      "source": [
        "random.randrange(0, 10, 2)"
      ],
      "metadata": {
        "colab": {
          "base_uri": "https://localhost:8080/"
        },
        "id": "ZTkeVroruzzX",
        "outputId": "f9ce5745-e69c-443f-9cab-cfb4eba7f291"
      },
      "execution_count": null,
      "outputs": [
        {
          "output_type": "execute_result",
          "data": {
            "text/plain": [
              "0"
            ]
          },
          "metadata": {},
          "execution_count": 90
        }
      ]
    },
    {
      "cell_type": "code",
      "source": [
        "random.randrange(0, 10, 3)"
      ],
      "metadata": {
        "colab": {
          "base_uri": "https://localhost:8080/"
        },
        "id": "VkQcFiDBvmi0",
        "outputId": "c8eb4554-d4ad-454d-f66f-6b4979bc3727"
      },
      "execution_count": null,
      "outputs": [
        {
          "output_type": "execute_result",
          "data": {
            "text/plain": [
              "0"
            ]
          },
          "metadata": {},
          "execution_count": 98
        }
      ]
    },
    {
      "cell_type": "code",
      "source": [
        "x = ['K', 'd', 13, '34j', 'x']\n",
        "x"
      ],
      "metadata": {
        "colab": {
          "base_uri": "https://localhost:8080/"
        },
        "id": "9LxtPe5nv21p",
        "outputId": "a6953cc2-c99c-4f79-986c-31437618466f"
      },
      "execution_count": null,
      "outputs": [
        {
          "output_type": "execute_result",
          "data": {
            "text/plain": [
              "['K', 'd', 13, '34j', 'x']"
            ]
          },
          "metadata": {},
          "execution_count": 99
        }
      ]
    },
    {
      "cell_type": "code",
      "source": [
        "random.choice(x)"
      ],
      "metadata": {
        "colab": {
          "base_uri": "https://localhost:8080/",
          "height": 57
        },
        "id": "NyYvej0VwAs2",
        "outputId": "5a518322-f4ad-452b-95bc-bed57f48d10f"
      },
      "execution_count": null,
      "outputs": [
        {
          "output_type": "execute_result",
          "data": {
            "text/plain": [
              "'x'"
            ],
            "application/vnd.google.colaboratory.intrinsic+json": {
              "type": "string"
            }
          },
          "metadata": {},
          "execution_count": 111
        }
      ]
    },
    {
      "cell_type": "markdown",
      "source": [
        "# Time\n",
        "\n",
        "- Documentation: https://docs.python.org/3/library/time.html"
      ],
      "metadata": {
        "id": "VdU2H53IaXC5"
      }
    },
    {
      "cell_type": "code",
      "source": [
        "import time as tm"
      ],
      "metadata": {
        "id": "rQt-DIbhwY7k"
      },
      "execution_count": null,
      "outputs": []
    },
    {
      "cell_type": "code",
      "source": [
        "tm.time()"
      ],
      "metadata": {
        "colab": {
          "base_uri": "https://localhost:8080/"
        },
        "id": "VExzysqYwbM5",
        "outputId": "b9157b6b-80ed-40e3-85a0-e4d2556d5de0"
      },
      "execution_count": null,
      "outputs": [
        {
          "output_type": "execute_result",
          "data": {
            "text/plain": [
              "1663087845.9918952"
            ]
          },
          "metadata": {},
          "execution_count": 116
        }
      ]
    },
    {
      "cell_type": "code",
      "source": [
        "before = tm.time()\n",
        "l = []\n",
        "for i in range(0,100000):\n",
        "  l.append(i)\n",
        "after = tm.time()"
      ],
      "metadata": {
        "id": "3z-g1LVawvrV"
      },
      "execution_count": null,
      "outputs": []
    },
    {
      "cell_type": "code",
      "source": [
        "interval = after - before\n",
        "print(f'Time: {interval} seconds')"
      ],
      "metadata": {
        "colab": {
          "base_uri": "https://localhost:8080/"
        },
        "id": "6NI5cy00xTqI",
        "outputId": "789cd0a0-c564-4d5e-fb51-dfb8a9d3cc1f"
      },
      "execution_count": null,
      "outputs": [
        {
          "output_type": "stream",
          "name": "stdout",
          "text": [
            "Time: 0.021404504776000977 seconds\n"
          ]
        }
      ]
    },
    {
      "cell_type": "code",
      "source": [
        "print('Finishing....')\n",
        "tm.sleep(2)\n",
        "print('....')\n",
        "tm.sleep(2)\n",
        "print('Good bye')"
      ],
      "metadata": {
        "colab": {
          "base_uri": "https://localhost:8080/"
        },
        "id": "LoKac6I7xpK0",
        "outputId": "a0f0a5b2-ae30-44f2-b6db-1e0800ac3aa2"
      },
      "execution_count": null,
      "outputs": [
        {
          "output_type": "stream",
          "name": "stdout",
          "text": [
            "Finishing....\n",
            "....\n",
            "Good bye\n"
          ]
        }
      ]
    },
    {
      "cell_type": "markdown",
      "source": [
        "# Custom modules/packages"
      ],
      "metadata": {
        "id": "o09DlHfO057u"
      }
    },
    {
      "cell_type": "code",
      "source": [
        "import utils"
      ],
      "metadata": {
        "id": "x2PH4SxE1GZ8"
      },
      "execution_count": null,
      "outputs": []
    },
    {
      "cell_type": "code",
      "source": [
        "utils.sum(2, 3)"
      ],
      "metadata": {
        "colab": {
          "base_uri": "https://localhost:8080/"
        },
        "id": "HrNH6sPG1s29",
        "outputId": "db8d88ec-a636-4a94-80e1-ef3430d4e864"
      },
      "execution_count": null,
      "outputs": [
        {
          "output_type": "execute_result",
          "data": {
            "text/plain": [
              "5"
            ]
          },
          "metadata": {},
          "execution_count": 2
        }
      ]
    },
    {
      "cell_type": "code",
      "source": [
        "utils.multiply(2, 2, 3)"
      ],
      "metadata": {
        "colab": {
          "base_uri": "https://localhost:8080/"
        },
        "id": "RXXttnim10Zo",
        "outputId": "fe95d152-0296-42c6-83ca-7a35f733d1b1"
      },
      "execution_count": null,
      "outputs": [
        {
          "output_type": "execute_result",
          "data": {
            "text/plain": [
              "12"
            ]
          },
          "metadata": {},
          "execution_count": 3
        }
      ]
    },
    {
      "cell_type": "code",
      "source": [
        "utils.div(10, 5)"
      ],
      "metadata": {
        "colab": {
          "base_uri": "https://localhost:8080/"
        },
        "id": "UPrUj03g2H8-",
        "outputId": "4af77407-0661-4909-df64-4069635c2e71"
      },
      "execution_count": null,
      "outputs": [
        {
          "output_type": "execute_result",
          "data": {
            "text/plain": [
              "2.0"
            ]
          },
          "metadata": {},
          "execution_count": 4
        }
      ]
    },
    {
      "cell_type": "markdown",
      "source": [
        "# Errors and exceptions\n",
        "\n",
        "- NameError: variable not defined\n",
        "- TypeError: incompatible data types\n",
        "- RuntimeError: runtime error\n",
        "- SyntaxError: syntax is invalid and not recognized by the interpreter\n",
        "- ZeroDivisionError: division by zero\n",
        "- IndexError: index out of bounds"
      ],
      "metadata": {
        "id": "uqax5NwZda6P"
      }
    },
    {
      "cell_type": "markdown",
      "source": [
        "## Error types"
      ],
      "metadata": {
        "id": "Aj8q9v3seBw5"
      }
    },
    {
      "cell_type": "code",
      "source": [
        "3 = 4"
      ],
      "metadata": {
        "colab": {
          "base_uri": "https://localhost:8080/",
          "height": 152
        },
        "id": "2be0N8qH5VMP",
        "outputId": "3b78f98e-c36c-4e68-8087-f9caac016e02"
      },
      "execution_count": null,
      "outputs": [
        {
          "output_type": "error",
          "ename": "SyntaxError",
          "evalue": "ignored",
          "traceback": [
            "\u001b[0;36m  File \u001b[0;32m\"<ipython-input-9-effb9ca1a7d0>\"\u001b[0;36m, line \u001b[0;32m1\u001b[0m\n\u001b[0;31m    3 = 4\u001b[0m\n\u001b[0m         ^\u001b[0m\n\u001b[0;31mSyntaxError\u001b[0m\u001b[0;31m:\u001b[0m can't assign to literal\n"
          ]
        }
      ]
    },
    {
      "cell_type": "code",
      "source": [
        "print('My name is ', name)"
      ],
      "metadata": {
        "colab": {
          "base_uri": "https://localhost:8080/",
          "height": 188
        },
        "id": "vqLOwHLP5v0I",
        "outputId": "3e132fa0-1dc9-441a-e3de-6aa751f29104"
      },
      "execution_count": null,
      "outputs": [
        {
          "output_type": "error",
          "ename": "NameError",
          "evalue": "ignored",
          "traceback": [
            "\u001b[0;31m---------------------------------------------------------------------------\u001b[0m",
            "\u001b[0;31mNameError\u001b[0m                                 Traceback (most recent call last)",
            "\u001b[0;32m<ipython-input-10-d5066a122546>\u001b[0m in \u001b[0;36m<module>\u001b[0;34m\u001b[0m\n\u001b[0;32m----> 1\u001b[0;31m \u001b[0mprint\u001b[0m\u001b[0;34m(\u001b[0m\u001b[0;34m'My name is '\u001b[0m\u001b[0;34m,\u001b[0m \u001b[0mname\u001b[0m\u001b[0;34m)\u001b[0m\u001b[0;34m\u001b[0m\u001b[0;34m\u001b[0m\u001b[0m\n\u001b[0m",
            "\u001b[0;31mNameError\u001b[0m: name 'name' is not defined"
          ]
        }
      ]
    },
    {
      "cell_type": "code",
      "source": [
        "print(3 / 0)"
      ],
      "metadata": {
        "colab": {
          "base_uri": "https://localhost:8080/",
          "height": 188
        },
        "id": "y82-zUry55EJ",
        "outputId": "e12e7c79-45be-48f1-e19a-973d102410a5"
      },
      "execution_count": null,
      "outputs": [
        {
          "output_type": "error",
          "ename": "ZeroDivisionError",
          "evalue": "ignored",
          "traceback": [
            "\u001b[0;31m---------------------------------------------------------------------------\u001b[0m",
            "\u001b[0;31mZeroDivisionError\u001b[0m                         Traceback (most recent call last)",
            "\u001b[0;32m<ipython-input-11-76ea80225931>\u001b[0m in \u001b[0;36m<module>\u001b[0;34m\u001b[0m\n\u001b[0;32m----> 1\u001b[0;31m \u001b[0mprint\u001b[0m\u001b[0;34m(\u001b[0m\u001b[0;36m3\u001b[0m \u001b[0;34m/\u001b[0m \u001b[0;36m0\u001b[0m\u001b[0;34m)\u001b[0m\u001b[0;34m\u001b[0m\u001b[0;34m\u001b[0m\u001b[0m\n\u001b[0m",
            "\u001b[0;31mZeroDivisionError\u001b[0m: division by zero"
          ]
        }
      ]
    },
    {
      "cell_type": "code",
      "source": [
        "2.3 / 'dog'"
      ],
      "metadata": {
        "colab": {
          "base_uri": "https://localhost:8080/",
          "height": 188
        },
        "id": "trTojTQc6IEP",
        "outputId": "fd09fb4b-a87f-463e-882e-cb920d0a562b"
      },
      "execution_count": null,
      "outputs": [
        {
          "output_type": "error",
          "ename": "TypeError",
          "evalue": "ignored",
          "traceback": [
            "\u001b[0;31m---------------------------------------------------------------------------\u001b[0m",
            "\u001b[0;31mTypeError\u001b[0m                                 Traceback (most recent call last)",
            "\u001b[0;32m<ipython-input-12-d80246b4f2e5>\u001b[0m in \u001b[0;36m<module>\u001b[0;34m\u001b[0m\n\u001b[0;32m----> 1\u001b[0;31m \u001b[0;36m2.3\u001b[0m \u001b[0;34m/\u001b[0m \u001b[0;34m'dog'\u001b[0m\u001b[0;34m\u001b[0m\u001b[0;34m\u001b[0m\u001b[0m\n\u001b[0m",
            "\u001b[0;31mTypeError\u001b[0m: unsupported operand type(s) for /: 'float' and 'str'"
          ]
        }
      ]
    },
    {
      "cell_type": "code",
      "source": [
        "c = [1,2,3,4,5]\n",
        "c"
      ],
      "metadata": {
        "colab": {
          "base_uri": "https://localhost:8080/"
        },
        "id": "hO_-klKv6UEu",
        "outputId": "997f099c-fe36-4512-ee33-7257298c9d54"
      },
      "execution_count": null,
      "outputs": [
        {
          "output_type": "execute_result",
          "data": {
            "text/plain": [
              "[1, 2, 3, 4, 5]"
            ]
          },
          "metadata": {},
          "execution_count": 13
        }
      ]
    },
    {
      "cell_type": "code",
      "source": [
        "c[5]"
      ],
      "metadata": {
        "colab": {
          "base_uri": "https://localhost:8080/",
          "height": 188
        },
        "id": "3O0bqVEh6ZJO",
        "outputId": "24bdac31-b255-415a-8460-139f6a84f58e"
      },
      "execution_count": null,
      "outputs": [
        {
          "output_type": "error",
          "ename": "IndexError",
          "evalue": "ignored",
          "traceback": [
            "\u001b[0;31m---------------------------------------------------------------------------\u001b[0m",
            "\u001b[0;31mIndexError\u001b[0m                                Traceback (most recent call last)",
            "\u001b[0;32m<ipython-input-18-513c54dffebd>\u001b[0m in \u001b[0;36m<module>\u001b[0;34m\u001b[0m\n\u001b[0;32m----> 1\u001b[0;31m \u001b[0mc\u001b[0m\u001b[0;34m[\u001b[0m\u001b[0;36m5\u001b[0m\u001b[0;34m]\u001b[0m\u001b[0;34m\u001b[0m\u001b[0;34m\u001b[0m\u001b[0m\n\u001b[0m",
            "\u001b[0;31mIndexError\u001b[0m: list index out of range"
          ]
        }
      ]
    },
    {
      "cell_type": "markdown",
      "source": [
        "## Manipulating errors"
      ],
      "metadata": {
        "id": "scnu9F5_eFhV"
      }
    },
    {
      "cell_type": "code",
      "source": [
        "try:\n",
        "  n = int(input('Type an integer number: '))\n",
        "except:\n",
        "  print('Invalid number!')\n",
        "else:\n",
        "  print(f'The number typed is {n}')"
      ],
      "metadata": {
        "colab": {
          "base_uri": "https://localhost:8080/"
        },
        "id": "wmGmadiy6ycG",
        "outputId": "76fc95ff-52b3-40cd-e097-a89104128883"
      },
      "execution_count": null,
      "outputs": [
        {
          "output_type": "stream",
          "name": "stdout",
          "text": [
            "Type an integer number: yyy\n",
            "Invalid number!\n"
          ]
        }
      ]
    },
    {
      "cell_type": "code",
      "source": [
        "while True:\n",
        "  try:\n",
        "    n = int(input('Type an integer number: '))\n",
        "  except:\n",
        "    print('Invalid number!')\n",
        "  else:\n",
        "    print(f'The number typed is {n}')\n",
        "    break"
      ],
      "metadata": {
        "colab": {
          "base_uri": "https://localhost:8080/"
        },
        "id": "oeXC1mw_8RCy",
        "outputId": "b2b38b4d-a470-47a1-d2b7-84316a81a211"
      },
      "execution_count": null,
      "outputs": [
        {
          "output_type": "stream",
          "name": "stdout",
          "text": [
            "Type an integer number: yy\n",
            "Invalid number!\n",
            "Type an integer number: 9\n",
            "The number typed is 9\n"
          ]
        }
      ]
    },
    {
      "cell_type": "code",
      "source": [
        "while True:\n",
        "  try:\n",
        "    n = int(input('Type an integer number: '))\n",
        "  except ValueError:\n",
        "    print('Invalid number!')\n",
        "  except KeyboardInterrupt:\n",
        "    print('Program interrupted by the user')\n",
        "    break\n",
        "  else:\n",
        "    print(f'The number typed is {n}')\n",
        "    break"
      ],
      "metadata": {
        "colab": {
          "base_uri": "https://localhost:8080/"
        },
        "id": "jlSktpyj8_wI",
        "outputId": "b6071635-ec79-430c-e196-24dc6e57769b"
      },
      "execution_count": null,
      "outputs": [
        {
          "output_type": "stream",
          "name": "stdout",
          "text": [
            "Type an integer number: 8\n",
            "The number typed is 8\n"
          ]
        }
      ]
    },
    {
      "cell_type": "markdown",
      "source": [
        "# Text files"
      ],
      "metadata": {
        "id": "5vjLcX17frEe"
      }
    },
    {
      "cell_type": "code",
      "source": [
        "with open('/content/sentence.txt', 'r') as txt:\n",
        "  for row in txt:\n",
        "    print(row)"
      ],
      "metadata": {
        "colab": {
          "base_uri": "https://localhost:8080/"
        },
        "id": "ov0Zx4Tt_DCE",
        "outputId": "1bed49a2-5307-49ec-ca0a-f1a5f5147c58"
      },
      "execution_count": null,
      "outputs": [
        {
          "output_type": "stream",
          "name": "stdout",
          "text": [
            "I am\n",
            "\n",
            "learning\n",
            "\n",
            "Python programming\n",
            "\n",
            "language\n",
            "\n"
          ]
        }
      ]
    },
    {
      "cell_type": "code",
      "source": [
        "with open('/content/sentence.txt') as txt:\n",
        "  r = txt.readlines()"
      ],
      "metadata": {
        "id": "BUOywzAl_d6F"
      },
      "execution_count": null,
      "outputs": []
    },
    {
      "cell_type": "code",
      "source": [
        "r"
      ],
      "metadata": {
        "colab": {
          "base_uri": "https://localhost:8080/"
        },
        "id": "Az1AY-SS_jBZ",
        "outputId": "774d57e0-e30a-409b-edc1-4443b873f65b"
      },
      "execution_count": null,
      "outputs": [
        {
          "output_type": "execute_result",
          "data": {
            "text/plain": [
              "['I am\\n', 'learning\\n', 'Python programming\\n', 'language\\n']"
            ]
          },
          "metadata": {},
          "execution_count": 6
        }
      ]
    },
    {
      "cell_type": "code",
      "source": [
        "with open('txt2.txt', 'w') as txt:\n",
        "  txt.write('Hello everyone')"
      ],
      "metadata": {
        "id": "R5FI44q7__Pv"
      },
      "execution_count": null,
      "outputs": []
    },
    {
      "cell_type": "code",
      "source": [
        "with open('/content/txt2.txt', 'r') as txt:\n",
        "  for row in txt:\n",
        "    print(row)"
      ],
      "metadata": {
        "id": "XMaD2dX5AeOl",
        "outputId": "3bbe1fb6-73a4-4088-9668-e3c7a8dc0245",
        "colab": {
          "base_uri": "https://localhost:8080/"
        }
      },
      "execution_count": null,
      "outputs": [
        {
          "output_type": "stream",
          "name": "stdout",
          "text": [
            "Hello everyone\n"
          ]
        }
      ]
    },
    {
      "cell_type": "markdown",
      "source": [
        "# Regular expressions\n",
        "\n",
        "- https://regexr.com/"
      ],
      "metadata": {
        "id": "kwQkEdSunfaI"
      }
    },
    {
      "cell_type": "code",
      "source": [
        "import re"
      ],
      "metadata": {
        "id": "IkHBiLOGL1tn"
      },
      "execution_count": null,
      "outputs": []
    },
    {
      "cell_type": "markdown",
      "source": [
        "## search"
      ],
      "metadata": {
        "id": "ruFhzmohnhfw"
      }
    },
    {
      "cell_type": "code",
      "source": [
        "sentence = 'Hello! My phone number is (00)0102-0500'"
      ],
      "metadata": {
        "id": "dQRR6b9mK34W"
      },
      "execution_count": null,
      "outputs": []
    },
    {
      "cell_type": "code",
      "source": [
        "re.search('\\(\\d{2}\\)\\d{4}-\\d{4}', sentence)"
      ],
      "metadata": {
        "colab": {
          "base_uri": "https://localhost:8080/"
        },
        "id": "NgMgW01VMDUE",
        "outputId": "3624e269-2203-4bde-9535-54cd4724aedc"
      },
      "execution_count": null,
      "outputs": [
        {
          "output_type": "execute_result",
          "data": {
            "text/plain": [
              "<re.Match object; span=(26, 39), match='(00)0102-0500'>"
            ]
          },
          "metadata": {},
          "execution_count": 9
        }
      ]
    },
    {
      "cell_type": "code",
      "source": [
        "sentence = 'The licence plate of my car is FrR-1398'"
      ],
      "metadata": {
        "id": "uFbA9xU8K9qN"
      },
      "execution_count": null,
      "outputs": []
    },
    {
      "cell_type": "code",
      "source": [
        "re.search('[A-Za-z]{3}-\\d{4}', sentence)"
      ],
      "metadata": {
        "colab": {
          "base_uri": "https://localhost:8080/"
        },
        "id": "WYYLX1l9NgDC",
        "outputId": "5867a86f-836a-4a32-f862-c6ce4570942b"
      },
      "execution_count": null,
      "outputs": [
        {
          "output_type": "execute_result",
          "data": {
            "text/plain": [
              "<re.Match object; span=(31, 39), match='FrR-1398'>"
            ]
          },
          "metadata": {},
          "execution_count": 16
        }
      ]
    },
    {
      "cell_type": "code",
      "source": [
        "email = 'My e-mail is ty8787est@teyyyst.com'"
      ],
      "metadata": {
        "id": "DlNKRSvcLC5j"
      },
      "execution_count": null,
      "outputs": []
    },
    {
      "cell_type": "code",
      "source": [
        "re.search('\\w+@\\w+\\.com', email)"
      ],
      "metadata": {
        "colab": {
          "base_uri": "https://localhost:8080/"
        },
        "id": "kguDpLKFOFvT",
        "outputId": "611d0544-58b1-47ba-9e88-7331610c6691"
      },
      "execution_count": null,
      "outputs": [
        {
          "output_type": "execute_result",
          "data": {
            "text/plain": [
              "<re.Match object; span=(13, 34), match='ty8787est@teyyyst.com'>"
            ]
          },
          "metadata": {},
          "execution_count": 20
        }
      ]
    },
    {
      "cell_type": "markdown",
      "source": [
        "## match"
      ],
      "metadata": {
        "id": "YcJNmRkEnkiz"
      }
    },
    {
      "cell_type": "code",
      "source": [
        "sentence = 'The licence plate of my car is FRT-1998'"
      ],
      "metadata": {
        "id": "0pWcI3ShLJpi"
      },
      "execution_count": null,
      "outputs": []
    },
    {
      "cell_type": "code",
      "source": [
        "re.match('[A-Za-z]{3}-\\d{4}', sentence)"
      ],
      "metadata": {
        "id": "luszoURZOreV"
      },
      "execution_count": null,
      "outputs": []
    },
    {
      "cell_type": "code",
      "source": [
        "sentence = 'FRT-1998 is the licence plate number'"
      ],
      "metadata": {
        "id": "y6VC0dgLLNPi"
      },
      "execution_count": null,
      "outputs": []
    },
    {
      "cell_type": "code",
      "source": [
        "re.match('[A-Za-z]{3}-\\d{4}', sentence)"
      ],
      "metadata": {
        "colab": {
          "base_uri": "https://localhost:8080/"
        },
        "id": "576JM_mNO6CG",
        "outputId": "8aa401cb-b4a9-435f-948a-f2100b44f643"
      },
      "execution_count": null,
      "outputs": [
        {
          "output_type": "execute_result",
          "data": {
            "text/plain": [
              "<re.Match object; span=(0, 8), match='FRT-1998'>"
            ]
          },
          "metadata": {},
          "execution_count": 25
        }
      ]
    },
    {
      "cell_type": "markdown",
      "source": [
        "## findall"
      ],
      "metadata": {
        "id": "R5KYjynUoYMW"
      }
    },
    {
      "cell_type": "code",
      "source": [
        "sentence = 'My phone number is (00)0000-0000. The old number is (11)1111-1111'"
      ],
      "metadata": {
        "id": "Zo0TDeO7LSXM"
      },
      "execution_count": null,
      "outputs": []
    },
    {
      "cell_type": "code",
      "source": [
        "re.findall('\\(\\d{2}\\)\\d{4}-\\d{4}', sentence)"
      ],
      "metadata": {
        "colab": {
          "base_uri": "https://localhost:8080/"
        },
        "id": "Ow8_JGlEPMat",
        "outputId": "ae349845-8137-43bd-f20f-1ad73af78023"
      },
      "execution_count": null,
      "outputs": [
        {
          "output_type": "execute_result",
          "data": {
            "text/plain": [
              "['(00)0000-0000', '(11)1111-1111']"
            ]
          },
          "metadata": {},
          "execution_count": 27
        }
      ]
    },
    {
      "cell_type": "code",
      "source": [
        "emails = '''Name: Test 1\n",
        "email: test1@test.com\n",
        "Name: Test 2\n",
        "email: test2@test.com\n",
        "Name: Test 3\n",
        "email: test3@test.com.br\n",
        "'''"
      ],
      "metadata": {
        "id": "IJ1OjPS5LcAD"
      },
      "execution_count": null,
      "outputs": []
    },
    {
      "cell_type": "code",
      "source": [
        "re.findall('\\w+@\\w+\\.com', emails)"
      ],
      "metadata": {
        "colab": {
          "base_uri": "https://localhost:8080/"
        },
        "id": "yumO_focPbU9",
        "outputId": "1fb9b53d-ff3c-46b1-db58-27c2f8441ffe"
      },
      "execution_count": null,
      "outputs": [
        {
          "output_type": "execute_result",
          "data": {
            "text/plain": [
              "['test1@test.com', 'test2@test.com', 'test3@test.com']"
            ]
          },
          "metadata": {},
          "execution_count": 29
        }
      ]
    },
    {
      "cell_type": "markdown",
      "source": [
        "# Objected oriented"
      ],
      "metadata": {
        "id": "uXBrrvJZrIBI"
      }
    },
    {
      "cell_type": "code",
      "source": [
        "class Triangle:\n",
        "  def __init__(self, side1, side2, side3, base, height):\n",
        "    self.side1 = side1\n",
        "    self.side2 = side2\n",
        "    self.side3 = side3\n",
        "    self.base = base\n",
        "    self.height = height\n",
        "\n",
        "  def area(self):\n",
        "    return (self.base * self.height) / 2\n",
        "\n",
        "  def type(self):\n",
        "    if self.side1 > self.side2 + self.side3:\n",
        "      return 'it is not a triangle'\n",
        "    elif self.side1 == self.side2 or self.side1 == self.side3 or self.side1 == self.side2:\n",
        "      return 'isosceles'\n",
        "    else:\n",
        "      return 'other type of triangle'"
      ],
      "metadata": {
        "id": "bZTlTHOaR9LS"
      },
      "execution_count": null,
      "outputs": []
    },
    {
      "cell_type": "code",
      "source": [
        "t1 = Triangle(5, 1, 3, 4, 3)"
      ],
      "metadata": {
        "id": "xm98lKgZSwb2"
      },
      "execution_count": null,
      "outputs": []
    },
    {
      "cell_type": "code",
      "source": [
        "(4 * 3) / 2"
      ],
      "metadata": {
        "colab": {
          "base_uri": "https://localhost:8080/"
        },
        "id": "Uv75uvnuUtn5",
        "outputId": "b8a18766-9604-4f42-c08b-c6a345d1a507"
      },
      "execution_count": null,
      "outputs": [
        {
          "output_type": "execute_result",
          "data": {
            "text/plain": [
              "6.0"
            ]
          },
          "metadata": {},
          "execution_count": 47
        }
      ]
    },
    {
      "cell_type": "code",
      "source": [
        "print(t1.side1, t1.side2, t1.side3, t1.base, t1.height)"
      ],
      "metadata": {
        "colab": {
          "base_uri": "https://localhost:8080/"
        },
        "id": "ozRvyquWS7IE",
        "outputId": "58246aca-be79-4ad5-c18a-897203ee6e6e"
      },
      "execution_count": null,
      "outputs": [
        {
          "output_type": "stream",
          "name": "stdout",
          "text": [
            "5 1 3 4 3\n"
          ]
        }
      ]
    },
    {
      "cell_type": "code",
      "source": [
        "t1.area()"
      ],
      "metadata": {
        "colab": {
          "base_uri": "https://localhost:8080/"
        },
        "id": "vK6mjNdDUllq",
        "outputId": "a1be06f9-2c2b-49d9-b108-b2d8b16b313b"
      },
      "execution_count": null,
      "outputs": [
        {
          "output_type": "execute_result",
          "data": {
            "text/plain": [
              "6.0"
            ]
          },
          "metadata": {},
          "execution_count": 54
        }
      ]
    },
    {
      "cell_type": "code",
      "source": [
        "t1.type()"
      ],
      "metadata": {
        "colab": {
          "base_uri": "https://localhost:8080/",
          "height": 37
        },
        "id": "yNQbN6MaWvsY",
        "outputId": "8ea57eaf-10e4-4e6b-9256-bef37cb0e721"
      },
      "execution_count": null,
      "outputs": [
        {
          "output_type": "execute_result",
          "data": {
            "text/plain": [
              "'it is not a triangle'"
            ],
            "application/vnd.google.colaboratory.intrinsic+json": {
              "type": "string"
            }
          },
          "metadata": {},
          "execution_count": 55
        }
      ]
    },
    {
      "cell_type": "code",
      "source": [
        "t2 = Triangle(8, 8, 8, 16, 9)"
      ],
      "metadata": {
        "id": "P_CS6uf6TROV"
      },
      "execution_count": null,
      "outputs": []
    },
    {
      "cell_type": "code",
      "source": [
        "print(t2.side1, t2.side2, t2.side3, t2.base, t2.height)"
      ],
      "metadata": {
        "colab": {
          "base_uri": "https://localhost:8080/"
        },
        "id": "s_1TkczATVW4",
        "outputId": "c1073ae8-dced-49c2-d25f-3b22f206461d"
      },
      "execution_count": null,
      "outputs": [
        {
          "output_type": "stream",
          "name": "stdout",
          "text": [
            "8 8 8 16 9\n"
          ]
        }
      ]
    },
    {
      "cell_type": "code",
      "source": [
        "t2.area()"
      ],
      "metadata": {
        "colab": {
          "base_uri": "https://localhost:8080/"
        },
        "id": "S-4B1Z84U0Se",
        "outputId": "3dc0fb56-58ca-4a2c-abf4-f6d6f3fe2e29"
      },
      "execution_count": null,
      "outputs": [
        {
          "output_type": "execute_result",
          "data": {
            "text/plain": [
              "72.0"
            ]
          },
          "metadata": {},
          "execution_count": 58
        }
      ]
    },
    {
      "cell_type": "code",
      "source": [
        "t2.type()"
      ],
      "metadata": {
        "id": "nN9QpTXGW-Ef",
        "outputId": "f60903ea-f394-4dce-d81a-f57e344c005b",
        "colab": {
          "base_uri": "https://localhost:8080/",
          "height": 37
        }
      },
      "execution_count": null,
      "outputs": [
        {
          "output_type": "execute_result",
          "data": {
            "text/plain": [
              "'isosceles'"
            ],
            "application/vnd.google.colaboratory.intrinsic+json": {
              "type": "string"
            }
          },
          "metadata": {},
          "execution_count": 59
        }
      ]
    }
  ]
}