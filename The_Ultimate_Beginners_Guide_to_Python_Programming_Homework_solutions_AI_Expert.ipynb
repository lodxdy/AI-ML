{
  "nbformat": 4,
  "nbformat_minor": 0,
  "metadata": {
    "colab": {
      "provenance": [],
      "include_colab_link": true
    },
    "kernelspec": {
      "name": "python3",
      "display_name": "Python 3"
    },
    "language_info": {
      "name": "python"
    }
  },
  "cells": [
    {
      "cell_type": "markdown",
      "metadata": {
        "id": "view-in-github",
        "colab_type": "text"
      },
      "source": [
        "<a href=\"https://colab.research.google.com/github/lodxdy/AI-ML/blob/main/The_Ultimate_Beginners_Guide_to_Python_Programming_Homework_solutions_AI_Expert.ipynb\" target=\"_parent\"><img src=\"https://colab.research.google.com/assets/colab-badge.svg\" alt=\"Open In Colab\"/></a>"
      ]
    },
    {
      "cell_type": "markdown",
      "source": [
        "# The Ultimate Beginners Guide to Python Programming - Homework solutions"
      ],
      "metadata": {
        "id": "EcgpyuODG0iJ"
      }
    },
    {
      "cell_type": "markdown",
      "source": [
        "# Mathematical operations"
      ],
      "metadata": {
        "id": "4WsolqYKG5_7"
      }
    },
    {
      "cell_type": "markdown",
      "source": [
        "## Exercise 1\n",
        "\n",
        "- Read two integer numbers, execute and display the result of the following operations: addition, subtraction, multiplication and division"
      ],
      "metadata": {
        "id": "KggXukq-G89_"
      }
    },
    {
      "cell_type": "code",
      "source": [
        "number1 = int(input('Type the first number: '))\n",
        "number2 = int(input('Type the second number: '))"
      ],
      "metadata": {
        "colab": {
          "base_uri": "https://localhost:8080/"
        },
        "id": "Pgj9z_7icWMN",
        "outputId": "79b3b992-1a1f-4cd5-8cb5-3748cfc73e37"
      },
      "execution_count": null,
      "outputs": [
        {
          "name": "stdout",
          "output_type": "stream",
          "text": [
            "Type the first number: 6\n",
            "Type the second number: 4\n"
          ]
        }
      ]
    },
    {
      "cell_type": "code",
      "source": [
        "print(number1, number2)"
      ],
      "metadata": {
        "colab": {
          "base_uri": "https://localhost:8080/"
        },
        "id": "YL_f4fVgcdq2",
        "outputId": "04ba68c6-d05b-4fc4-87e0-85768992699b"
      },
      "execution_count": null,
      "outputs": [
        {
          "output_type": "stream",
          "name": "stdout",
          "text": [
            "6 4\n"
          ]
        }
      ]
    },
    {
      "cell_type": "code",
      "source": [
        "sum = number1 + number2\n",
        "subtraction = number1 - number2\n",
        "multiplication = number1 * number2\n",
        "division = number1 / number2"
      ],
      "metadata": {
        "id": "e9tBJDG0cjv2"
      },
      "execution_count": null,
      "outputs": []
    },
    {
      "cell_type": "code",
      "source": [
        "print('Sum: ', sum)\n",
        "print('Subtraction: ', subtraction)\n",
        "print('Multiplication: ', multiplication)\n",
        "print('Division: ', round(division, 2))"
      ],
      "metadata": {
        "colab": {
          "base_uri": "https://localhost:8080/"
        },
        "id": "iteeKUBbc1Hi",
        "outputId": "80e07a97-6bc1-4070-c63f-85f8cf7292a6"
      },
      "execution_count": null,
      "outputs": [
        {
          "output_type": "stream",
          "name": "stdout",
          "text": [
            "Sum:  10\n",
            "Subtraction:  2\n",
            "Multiplication:  24\n",
            "Division:  1.5\n"
          ]
        }
      ]
    },
    {
      "cell_type": "markdown",
      "source": [
        "## Exercise 2\n",
        "\n",
        "- Calculate the amount of liters of fuel spent on a trip considering a car that consumes 12 km per liter. To obtain the calculation, the user must provide the time spent on the trip and the average speed during the trip. It is possible to obtain the distance traveled using the following equation DISTANCE = TIME * SPEED. Then you can calculate the liters using the following equation: LITERS = DISTANCE / 12. The program must present the values ​​of the average speed, time spent in the trip, the distance traveled and the amount of liters used on the trip"
      ],
      "metadata": {
        "id": "MqH5dNUhG-iU"
      }
    },
    {
      "cell_type": "code",
      "source": [
        "time = float(input('Type the time spent in the trip: '))\n",
        "speed = float(input('Type the average speed: '))"
      ],
      "metadata": {
        "colab": {
          "base_uri": "https://localhost:8080/"
        },
        "id": "4-Hunu9GdAoC",
        "outputId": "95c9957e-3cf0-4227-c5ab-8d7a5754b5cb"
      },
      "execution_count": null,
      "outputs": [
        {
          "name": "stdout",
          "output_type": "stream",
          "text": [
            "Type the time spent in the trip: 2\n",
            "Type the average speed: 80\n"
          ]
        }
      ]
    },
    {
      "cell_type": "code",
      "source": [
        "print(time, speed)"
      ],
      "metadata": {
        "colab": {
          "base_uri": "https://localhost:8080/"
        },
        "id": "WLnuM2rKdOvb",
        "outputId": "9253c945-b2c1-4821-fcd3-529e141ff2df"
      },
      "execution_count": null,
      "outputs": [
        {
          "output_type": "stream",
          "name": "stdout",
          "text": [
            "2.0 80.0\n"
          ]
        }
      ]
    },
    {
      "cell_type": "code",
      "source": [
        "distance = time * speed\n",
        "liters = distance / 12"
      ],
      "metadata": {
        "id": "Mq3EPhyJdTJW"
      },
      "execution_count": null,
      "outputs": []
    },
    {
      "cell_type": "code",
      "source": [
        "print('Average speed: ', speed)\n",
        "print('Time spent in the trip: ', time)\n",
        "print('Distance:', distance)\n",
        "print('Liters:', round(liters,1))"
      ],
      "metadata": {
        "colab": {
          "base_uri": "https://localhost:8080/"
        },
        "id": "mXl5NCqbdaNd",
        "outputId": "100a263d-f352-4cea-ac27-7378ab56c1fe"
      },
      "execution_count": null,
      "outputs": [
        {
          "output_type": "stream",
          "name": "stdout",
          "text": [
            "Average speed:  80.0\n",
            "Time spent in the trip:  2.0\n",
            "Distance: 160.0\n",
            "Liters: 13.3\n"
          ]
        }
      ]
    },
    {
      "cell_type": "markdown",
      "source": [
        "# Logical and conditional operators"
      ],
      "metadata": {
        "id": "IIwxlOU8HErt"
      }
    },
    {
      "cell_type": "markdown",
      "source": [
        "## Exercise 1\n",
        "\n",
        "- Read the user's age and classify he/she into:\n",
        "\n",
        " - Child - 0 to 12 years old\n",
        "\n",
        " - Teenager - 13 to 17 years old\n",
        "\n",
        " - Adult - over 18 years old\n",
        "\n",
        " - If a negative number is entered, an error message must be showed"
      ],
      "metadata": {
        "id": "-0O-MzcnHICh"
      }
    },
    {
      "cell_type": "code",
      "source": [
        "age = int(input('Type the age: '))"
      ],
      "metadata": {
        "colab": {
          "base_uri": "https://localhost:8080/"
        },
        "id": "OEpi8RGueue4",
        "outputId": "c241e17c-75ee-481c-f791-13b63ce836a0"
      },
      "execution_count": null,
      "outputs": [
        {
          "name": "stdout",
          "output_type": "stream",
          "text": [
            "Type the age: -4\n"
          ]
        }
      ]
    },
    {
      "cell_type": "code",
      "source": [
        "print(age)"
      ],
      "metadata": {
        "colab": {
          "base_uri": "https://localhost:8080/"
        },
        "id": "_Fh_cEqle0DA",
        "outputId": "f4d31f26-4fab-479f-fe8b-e5011f5ab28b"
      },
      "execution_count": null,
      "outputs": [
        {
          "output_type": "stream",
          "name": "stdout",
          "text": [
            "-4\n"
          ]
        }
      ]
    },
    {
      "cell_type": "code",
      "source": [
        "if age >= 0 and age <= 12:\n",
        "  print('Child')\n",
        "elif age > 12 and age <= 18:\n",
        "  print('Teenager')\n",
        "elif age > 18:\n",
        "  print('Adult')\n",
        "else:\n",
        "  print('Invalid age')"
      ],
      "metadata": {
        "colab": {
          "base_uri": "https://localhost:8080/"
        },
        "id": "2zdBwxZ_e25S",
        "outputId": "7c1e4488-238d-49f7-cdc4-13a4c015cf7f"
      },
      "execution_count": null,
      "outputs": [
        {
          "output_type": "stream",
          "name": "stdout",
          "text": [
            "Invalid age\n"
          ]
        }
      ]
    },
    {
      "cell_type": "markdown",
      "source": [
        "## Exercise 2\n",
        "\n",
        "- Use the mean calculation to get the average of a student by reading the grades G1, G2 and G3. After the average is calculated, print if the student is approved, has failed or has taken the exam. If the average is in the range from 0.0 to 4.0 the student has failed. If the average is in the range from 4.1 to 6.0 the student has taken the exam. Finally, If the average is greater than 6.0 the student has been approved. If the student took the exam, the exam grade must be read. If the exam grade is greater than 6.0, he/she is approved, otherwise; is failed"
      ],
      "metadata": {
        "id": "WXagCHsgHJfg"
      }
    },
    {
      "cell_type": "code",
      "source": [
        "g1 = float(input('Type G1: '))\n",
        "g2 = float(input('Type G2: '))\n",
        "g3 = float(input('Type G3: '))"
      ],
      "metadata": {
        "colab": {
          "base_uri": "https://localhost:8080/"
        },
        "id": "ctXM--CYfFrM",
        "outputId": "7a63deec-2613-40d0-939f-cb9e4f6827b8"
      },
      "execution_count": null,
      "outputs": [
        {
          "name": "stdout",
          "output_type": "stream",
          "text": [
            "Type G1: 7\n",
            "Type G2: 8\n",
            "Type G3: 9\n"
          ]
        }
      ]
    },
    {
      "cell_type": "code",
      "source": [
        "average = (g1 + g2 + g3) / 3\n",
        "print(average)"
      ],
      "metadata": {
        "colab": {
          "base_uri": "https://localhost:8080/"
        },
        "id": "L4mna2bofRPb",
        "outputId": "8ded3a10-c450-4f9d-83f5-b70810a4ce97"
      },
      "execution_count": null,
      "outputs": [
        {
          "output_type": "stream",
          "name": "stdout",
          "text": [
            "8.0\n"
          ]
        }
      ]
    },
    {
      "cell_type": "code",
      "source": [
        "if average >= 0.0 and average <= 4.0:\n",
        "  print('Failed')\n",
        "elif average >= 4.1 and average <= 6.0:\n",
        "  exam = float(input('Type the grade of the exam: '))\n",
        "  if exam >= 6.0:\n",
        "    print('Approved')\n",
        "  else:\n",
        "    print('Failed in the exam')\n",
        "else:\n",
        "  print('Approved')"
      ],
      "metadata": {
        "colab": {
          "base_uri": "https://localhost:8080/"
        },
        "id": "82v7fVi-fYg7",
        "outputId": "bbb66f15-1e9e-4f84-d4b0-6f8ccc0ab10a"
      },
      "execution_count": null,
      "outputs": [
        {
          "output_type": "stream",
          "name": "stdout",
          "text": [
            "Approved\n"
          ]
        }
      ]
    },
    {
      "cell_type": "markdown",
      "source": [
        "# Loops"
      ],
      "metadata": {
        "id": "GEkVF-F-HNdg"
      }
    },
    {
      "cell_type": "markdown",
      "source": [
        "## Exercise 1\n",
        "\n",
        "- Read 5 numbers and calculate the average"
      ],
      "metadata": {
        "id": "SDw25VjTHOtf"
      }
    },
    {
      "cell_type": "markdown",
      "source": [
        "### For"
      ],
      "metadata": {
        "id": "jkip8-LAHQ3T"
      }
    },
    {
      "cell_type": "code",
      "source": [
        "number = average = sum = 0"
      ],
      "metadata": {
        "id": "uuOIOiuLgniN"
      },
      "execution_count": null,
      "outputs": []
    },
    {
      "cell_type": "code",
      "source": [
        "print(number, average, sum)"
      ],
      "metadata": {
        "colab": {
          "base_uri": "https://localhost:8080/"
        },
        "id": "XSWtFLJRguAw",
        "outputId": "f7eff507-422f-400f-94cb-5a2cab8d8d5a"
      },
      "execution_count": null,
      "outputs": [
        {
          "output_type": "stream",
          "name": "stdout",
          "text": [
            "0 0 0\n"
          ]
        }
      ]
    },
    {
      "cell_type": "code",
      "source": [
        "for _ in range(1, 6):\n",
        "  number = float(input('Type the number '))\n",
        "  sum += number"
      ],
      "metadata": {
        "colab": {
          "base_uri": "https://localhost:8080/"
        },
        "id": "t-pvFbtng1PN",
        "outputId": "c9316428-271b-4a6c-bd42-0dd84c6a8476"
      },
      "execution_count": null,
      "outputs": [
        {
          "name": "stdout",
          "output_type": "stream",
          "text": [
            "Type the number 5\n",
            "Type the number 2\n",
            "Type the number 3\n",
            "Type the number 4\n",
            "Type the number 7\n"
          ]
        }
      ]
    },
    {
      "cell_type": "code",
      "source": [
        "print(sum)"
      ],
      "metadata": {
        "colab": {
          "base_uri": "https://localhost:8080/"
        },
        "id": "MLKewrAVg-Bb",
        "outputId": "e2085be4-b676-405f-8f65-486e917e6a80"
      },
      "execution_count": null,
      "outputs": [
        {
          "output_type": "stream",
          "name": "stdout",
          "text": [
            "21.0\n"
          ]
        }
      ]
    },
    {
      "cell_type": "code",
      "source": [
        "average = sum / 5\n",
        "print('The average is ', average)"
      ],
      "metadata": {
        "colab": {
          "base_uri": "https://localhost:8080/"
        },
        "id": "hanlbqCmhB2J",
        "outputId": "086b6e06-b4eb-4c5f-f58b-91f6425939dc"
      },
      "execution_count": null,
      "outputs": [
        {
          "output_type": "stream",
          "name": "stdout",
          "text": [
            "The average is  4.2\n"
          ]
        }
      ]
    },
    {
      "cell_type": "markdown",
      "source": [
        "### While"
      ],
      "metadata": {
        "id": "d-q-bl9CHR3p"
      }
    },
    {
      "cell_type": "code",
      "source": [
        "sum = 0\n",
        "number = 1\n",
        "while number <= 5:\n",
        "  score = float(input('Type the number/score:'))\n",
        "  sum += score\n",
        "  number += 1\n",
        "print('The average is ', sum / 5)"
      ],
      "metadata": {
        "colab": {
          "base_uri": "https://localhost:8080/"
        },
        "id": "xxrorgVHhIz9",
        "outputId": "131d253c-da89-4a8b-bd0e-24fc9cb4f77f"
      },
      "execution_count": null,
      "outputs": [
        {
          "output_type": "stream",
          "name": "stdout",
          "text": [
            "Type the number/score:4\n",
            "Type the number/score:5\n",
            "Type the number/score:6\n",
            "Type the number/score:1\n",
            "Type the number/score:2\n",
            "The average is  3.6\n"
          ]
        }
      ]
    },
    {
      "cell_type": "markdown",
      "source": [
        "## Exercise 2\n",
        "\n",
        "- Print the multiplication from 1 to 10 considering number 3 (3 x 1 = 1, ..., 3 x 10 = 30)"
      ],
      "metadata": {
        "id": "LHVv7V9IHTFr"
      }
    },
    {
      "cell_type": "markdown",
      "source": [
        "### For"
      ],
      "metadata": {
        "id": "X0XgbdrcHU52"
      }
    },
    {
      "cell_type": "code",
      "source": [
        "for i in range(1, 11):\n",
        "  print('3 x {} = {}'.format(i, 3 * i))"
      ],
      "metadata": {
        "colab": {
          "base_uri": "https://localhost:8080/"
        },
        "id": "tW4_F755hehi",
        "outputId": "08d881cc-4542-44eb-9660-28ff09449df0"
      },
      "execution_count": null,
      "outputs": [
        {
          "output_type": "stream",
          "name": "stdout",
          "text": [
            "3 x 1 = 3\n",
            "3 x 2 = 6\n",
            "3 x 3 = 9\n",
            "3 x 4 = 12\n",
            "3 x 5 = 15\n",
            "3 x 6 = 18\n",
            "3 x 7 = 21\n",
            "3 x 8 = 24\n",
            "3 x 9 = 27\n",
            "3 x 10 = 30\n"
          ]
        }
      ]
    },
    {
      "cell_type": "markdown",
      "source": [
        "### While"
      ],
      "metadata": {
        "id": "0EexK1UmHV8p"
      }
    },
    {
      "cell_type": "code",
      "source": [
        "number = 1\n",
        "while number <= 10:\n",
        "  print('3 x {} = {}'.format(number, 3 * number))\n",
        "  number += 1"
      ],
      "metadata": {
        "colab": {
          "base_uri": "https://localhost:8080/"
        },
        "id": "kLbuApnKhhiw",
        "outputId": "7ef8f4c4-0679-41a8-8707-e512a33bf236"
      },
      "execution_count": null,
      "outputs": [
        {
          "output_type": "stream",
          "name": "stdout",
          "text": [
            "3 x 1 = 3\n",
            "3 x 2 = 6\n",
            "3 x 3 = 9\n",
            "3 x 4 = 12\n",
            "3 x 5 = 15\n",
            "3 x 6 = 18\n",
            "3 x 7 = 21\n",
            "3 x 8 = 24\n",
            "3 x 9 = 27\n",
            "3 x 10 = 30\n"
          ]
        }
      ]
    },
    {
      "cell_type": "markdown",
      "source": [
        "# Lists, dictionaries and matrices"
      ],
      "metadata": {
        "id": "3t63KHhwHe3N"
      }
    },
    {
      "cell_type": "markdown",
      "source": [
        "## Exercise 1 - lists\n",
        "\n",
        "- Build a loop to read 5 numbers and store them in a list. After reading, implement another loop to add all values"
      ],
      "metadata": {
        "id": "Z_VgCzlpHh3J"
      }
    },
    {
      "cell_type": "code",
      "source": [
        "list_of_numbers = []\n",
        "for _ in range(1, 6):\n",
        "  number = int(input('Type the number: '))\n",
        "  list_of_numbers.append(number)"
      ],
      "metadata": {
        "colab": {
          "base_uri": "https://localhost:8080/"
        },
        "id": "mEQs-TrvjBOj",
        "outputId": "80549cb6-aea1-4a09-f185-87085ab1c1d3"
      },
      "execution_count": null,
      "outputs": [
        {
          "name": "stdout",
          "output_type": "stream",
          "text": [
            "Type the number: 6\n",
            "Type the number: 1\n",
            "Type the number: 4\n",
            "Type the number: 6\n",
            "Type the number: 8\n"
          ]
        }
      ]
    },
    {
      "cell_type": "code",
      "source": [
        "list_of_numbers"
      ],
      "metadata": {
        "colab": {
          "base_uri": "https://localhost:8080/"
        },
        "id": "u9EojQVOjSay",
        "outputId": "8a36ff2a-1065-41ab-e6e1-669459fbd7f3"
      },
      "execution_count": null,
      "outputs": [
        {
          "output_type": "execute_result",
          "data": {
            "text/plain": [
              "[6, 1, 4, 6, 8]"
            ]
          },
          "metadata": {},
          "execution_count": 44
        }
      ]
    },
    {
      "cell_type": "code",
      "source": [
        "len(list_of_numbers)"
      ],
      "metadata": {
        "colab": {
          "base_uri": "https://localhost:8080/"
        },
        "id": "rrtuwJ3njVYd",
        "outputId": "c859ab55-c2b2-48d0-9391-858e5dcf015b"
      },
      "execution_count": null,
      "outputs": [
        {
          "output_type": "execute_result",
          "data": {
            "text/plain": [
              "5"
            ]
          },
          "metadata": {},
          "execution_count": 45
        }
      ]
    },
    {
      "cell_type": "code",
      "source": [
        "sum = 0\n",
        "for i in range(len(list_of_numbers)):\n",
        "  sum += list_of_numbers[i]\n",
        "print('Sum: ', sum)"
      ],
      "metadata": {
        "colab": {
          "base_uri": "https://localhost:8080/"
        },
        "id": "truRJQWPjZ2T",
        "outputId": "7854ae2e-a672-4e6a-c361-eb5d7782b5a4"
      },
      "execution_count": null,
      "outputs": [
        {
          "output_type": "stream",
          "name": "stdout",
          "text": [
            "Sum:  25\n"
          ]
        }
      ]
    },
    {
      "cell_type": "markdown",
      "source": [
        "## Exercise 2 - dictionaries\n",
        "\n",
        "- Build a dictionary to store the name and grade of 3 students (read the values using a loop structure). Build a new loop to add all the grades and calculate the average"
      ],
      "metadata": {
        "id": "7Mczs7e0HkTP"
      }
    },
    {
      "cell_type": "code",
      "source": [
        "students = {}\n",
        "for _ in range(1, 4):\n",
        "  name = input('Type the name of the student: ')\n",
        "  grade = float(input('Type the grade: '))\n",
        "  students[name] = grade"
      ],
      "metadata": {
        "colab": {
          "base_uri": "https://localhost:8080/"
        },
        "id": "Ywv4yfqUjkHY",
        "outputId": "9b7843a5-1ab8-4f5b-b4fe-7188ec01545b"
      },
      "execution_count": null,
      "outputs": [
        {
          "name": "stdout",
          "output_type": "stream",
          "text": [
            "Type the name of the student: Peter\n",
            "Type the grade: 6.5\n",
            "Type the name of the student: John\n",
            "Type the grade: 8\n",
            "Type the name of the student: Maria\n",
            "Type the grade: 10\n"
          ]
        }
      ]
    },
    {
      "cell_type": "code",
      "source": [
        "students"
      ],
      "metadata": {
        "colab": {
          "base_uri": "https://localhost:8080/"
        },
        "id": "MyHsyM30j0kJ",
        "outputId": "3f29439b-e025-4a19-dada-b1731f757322"
      },
      "execution_count": null,
      "outputs": [
        {
          "output_type": "execute_result",
          "data": {
            "text/plain": [
              "{'Peter': 6.5, 'John': 8.0, 'Maria': 10.0}"
            ]
          },
          "metadata": {},
          "execution_count": 48
        }
      ]
    },
    {
      "cell_type": "code",
      "source": [
        "students['John']"
      ],
      "metadata": {
        "colab": {
          "base_uri": "https://localhost:8080/"
        },
        "id": "H_lEVdaNj313",
        "outputId": "d409120e-bb3a-4570-fe41-cef42ffa6686"
      },
      "execution_count": null,
      "outputs": [
        {
          "output_type": "execute_result",
          "data": {
            "text/plain": [
              "8.0"
            ]
          },
          "metadata": {},
          "execution_count": 50
        }
      ]
    },
    {
      "cell_type": "code",
      "source": [
        "students.values()"
      ],
      "metadata": {
        "colab": {
          "base_uri": "https://localhost:8080/"
        },
        "id": "Y7ALusxjj7AB",
        "outputId": "8a7acd61-cb43-4ce7-b2c1-4b94f1bc03c5"
      },
      "execution_count": null,
      "outputs": [
        {
          "output_type": "execute_result",
          "data": {
            "text/plain": [
              "dict_values([6.5, 8.0, 10.0])"
            ]
          },
          "metadata": {},
          "execution_count": 52
        }
      ]
    },
    {
      "cell_type": "code",
      "source": [
        "sum = 0\n",
        "for grade in students.values():\n",
        "  sum += grade\n",
        "print('Average: ', sum / 3)"
      ],
      "metadata": {
        "colab": {
          "base_uri": "https://localhost:8080/"
        },
        "id": "H55QPtN9j9kM",
        "outputId": "5cb66f6d-4c0b-476e-bd86-cf155a44e4c2"
      },
      "execution_count": null,
      "outputs": [
        {
          "output_type": "stream",
          "name": "stdout",
          "text": [
            "Average:  8.166666666666666\n"
          ]
        }
      ]
    },
    {
      "cell_type": "markdown",
      "source": [
        "## Exercise 3 - matrices\n",
        "\n",
        "- Given the array below, build a loop to go through all the elements and add them all\n",
        "```\n",
        "matrix = np.array([[3, 4, 1],\n",
        "                   [3, 1, 5]])\n",
        "```\n",
        "\n"
      ],
      "metadata": {
        "id": "8znvrQTYic1p"
      }
    },
    {
      "cell_type": "code",
      "source": [
        "import numpy as np"
      ],
      "metadata": {
        "id": "4dtTWy9mvyB-"
      },
      "execution_count": null,
      "outputs": []
    },
    {
      "cell_type": "code",
      "source": [
        "matrix = np.array([[3, 4, 1],\n",
        "                   [3, 1, 5]])\n",
        "matrix"
      ],
      "metadata": {
        "id": "QoZW_N0hjIut",
        "colab": {
          "base_uri": "https://localhost:8080/"
        },
        "outputId": "8501d6b6-c48d-449c-ba6e-a5ce9ac15d0e"
      },
      "execution_count": null,
      "outputs": [
        {
          "output_type": "execute_result",
          "data": {
            "text/plain": [
              "array([[3, 4, 1],\n",
              "       [3, 1, 5]])"
            ]
          },
          "metadata": {},
          "execution_count": 57
        }
      ]
    },
    {
      "cell_type": "code",
      "source": [
        "matrix.shape"
      ],
      "metadata": {
        "id": "EThws213jRIm",
        "colab": {
          "base_uri": "https://localhost:8080/"
        },
        "outputId": "c28e904c-fa66-42c4-88d6-4e9799e9e7d1"
      },
      "execution_count": null,
      "outputs": [
        {
          "output_type": "execute_result",
          "data": {
            "text/plain": [
              "(2, 3)"
            ]
          },
          "metadata": {},
          "execution_count": 58
        }
      ]
    },
    {
      "cell_type": "code",
      "source": [
        "sum = 0\n",
        "for i in range(matrix.shape[0]):\n",
        "  for j in range(matrix.shape[1]):\n",
        "    #print(matrix[i][j])\n",
        "    sum += matrix[i][j]\n",
        "print('Sum: ', sum)"
      ],
      "metadata": {
        "id": "_WW_87yrjUHY",
        "colab": {
          "base_uri": "https://localhost:8080/"
        },
        "outputId": "bb0ec754-06a5-4c68-af64-98892ad81013"
      },
      "execution_count": null,
      "outputs": [
        {
          "output_type": "stream",
          "name": "stdout",
          "text": [
            "Sum:  17\n"
          ]
        }
      ]
    },
    {
      "cell_type": "markdown",
      "source": [
        "# Functions"
      ],
      "metadata": {
        "id": "-JsNb3iuHY2P"
      }
    },
    {
      "cell_type": "markdown",
      "source": [
        "## Exercise 1\n",
        "\n",
        "- Read a temperature in degrees Celsius and print it converted to degrees Fahrenheit. The equation is F = (9 * C + 160) / 5, where F is the temperature in Fahrenheit and C is the temperature in Celsius. Create the following functions:\n",
        "\n",
        " - Function to read and return the temperature value in degrees Celsius (no parameter)\n",
        "\n",
        " - Function to perform the calculation (receives as parameter the temperature in degrees Celsius)\n",
        "\n",
        " - Function to display the result (receives the result as parameter and only prints the result)"
      ],
      "metadata": {
        "id": "LquDzzVPHaFt"
      }
    },
    {
      "cell_type": "code",
      "source": [
        "def read_temperature():\n",
        "  temperature = float(input('Type the temperature in degrees Celsius: '))\n",
        "  return temperature"
      ],
      "metadata": {
        "id": "zcKiMg1PhpnL"
      },
      "execution_count": null,
      "outputs": []
    },
    {
      "cell_type": "code",
      "source": [
        "def convert(temperature_celsius):\n",
        "  temperature_f = (9 * temperature_celsius + 160) / 5\n",
        "  return temperature_f"
      ],
      "metadata": {
        "id": "xe2xpEKIhzUD"
      },
      "execution_count": null,
      "outputs": []
    },
    {
      "cell_type": "code",
      "source": [
        "def show(temperature_f):\n",
        "  print(temperature_f)"
      ],
      "metadata": {
        "id": "bqGiLwvgh64W"
      },
      "execution_count": null,
      "outputs": []
    },
    {
      "cell_type": "code",
      "source": [
        "temperature_c = read_temperature()\n",
        "temperature_f = convert(temperature_c)\n",
        "show(temperature_f)"
      ],
      "metadata": {
        "colab": {
          "base_uri": "https://localhost:8080/"
        },
        "id": "KDdI-hZ2h-wM",
        "outputId": "e29163a4-c8d6-472d-e590-61788f1fc916"
      },
      "execution_count": null,
      "outputs": [
        {
          "output_type": "stream",
          "name": "stdout",
          "text": [
            "Type the temperature in degrees Celsius: 30\n",
            "86.0\n"
          ]
        }
      ]
    },
    {
      "cell_type": "markdown",
      "source": [
        "## Exercise 2\n",
        "\n",
        "- Calculate the amount of liters of fuel spent on a trip considering a car that consumes 12 km per liter. To obtain the calculation, the user must provide the time spent on the trip and the average speed during the trip. It is possible to obtain the distance traveled using the following equation DISTANCE = TIME * SPEED. Then you can calculate the liters using the following equation: LITERS = DISTANCE / 12. The program must present the values ​​of the average speed, time spent in the trip, the distance traveled and the amount of liters used on the trip\n",
        "\n",
        " - Function to read the values (no parameter and returns both values inputted by the user)\n",
        "\n",
        " - Function to calculate the distance (receives time and speed as parameter and returns the distance)\n",
        "\n",
        " - Function to calculate the amount of liters (receives distance as parameter and returns the liters)\n",
        "\n",
        " - Function to display the result (receives all the values as a parameter and only prints the result)"
      ],
      "metadata": {
        "id": "3rPGz8ElHbc4"
      }
    },
    {
      "cell_type": "code",
      "source": [
        "def read():\n",
        "  time = float(input('Type the time spent in the trip: '))\n",
        "  speed = float(input('Type the average speed: '))\n",
        "  return time, speed"
      ],
      "metadata": {
        "id": "vTlARiSpiJVf"
      },
      "execution_count": null,
      "outputs": []
    },
    {
      "cell_type": "code",
      "source": [
        "def calculate_distance(time, speed):\n",
        "  return time * speed"
      ],
      "metadata": {
        "id": "9oienlvaiVee"
      },
      "execution_count": null,
      "outputs": []
    },
    {
      "cell_type": "code",
      "source": [
        "def calculate_liters(distance):\n",
        "  return distance / 12"
      ],
      "metadata": {
        "id": "Y7u0Hb3gib21"
      },
      "execution_count": null,
      "outputs": []
    },
    {
      "cell_type": "code",
      "source": [
        "def show(speed, time, distance, liters):\n",
        "  print('Speed:', speed)\n",
        "  print('Time:', time)\n",
        "  print('Distance:', distance)\n",
        "  print('Liters:', liters)"
      ],
      "metadata": {
        "id": "NHkbPOx3ihQ9"
      },
      "execution_count": null,
      "outputs": []
    },
    {
      "cell_type": "code",
      "source": [
        "t, s = read()\n",
        "d = calculate_distance(t, s)\n",
        "l = calculate_liters(d)\n",
        "show(s, t, d, l)"
      ],
      "metadata": {
        "colab": {
          "base_uri": "https://localhost:8080/"
        },
        "id": "Pflg8_zKiz6s",
        "outputId": "bbdd35ba-766d-4024-942c-b3d37f57b13f"
      },
      "execution_count": null,
      "outputs": [
        {
          "output_type": "stream",
          "name": "stdout",
          "text": [
            "Type the time spent in the trip: 2\n",
            "Type the average speed: 80\n",
            "Speed: 80.0\n",
            "Time: 2.0\n",
            "Distance: 160.0\n",
            "Liters: 13.333333333333334\n"
          ]
        }
      ]
    },
    {
      "cell_type": "markdown",
      "source": [
        "# Custom packages\n",
        "\n",
        "Create a .py file with two functions\n",
        "\n",
        "  - Function to read a string (receives a message as a parameter and returns what the user has typed)\n",
        "  - Function to read a float number (receives a message as a parameter and returns what the user has typed)\n",
        "\n",
        "Import the file in Google Colab and test the functions"
      ],
      "metadata": {
        "id": "rR1-Uw12tSix"
      }
    },
    {
      "cell_type": "code",
      "source": [
        "import read_messages as rm"
      ],
      "metadata": {
        "id": "wVS2km0ut8bN"
      },
      "execution_count": null,
      "outputs": []
    },
    {
      "cell_type": "code",
      "source": [
        "text = rm.read_string('Type your name: ')\n",
        "print(text)"
      ],
      "metadata": {
        "id": "4v-It6LCt-Ef",
        "colab": {
          "base_uri": "https://localhost:8080/"
        },
        "outputId": "88820690-a925-4c4f-9581-45acf736f2d8"
      },
      "execution_count": null,
      "outputs": [
        {
          "output_type": "stream",
          "name": "stdout",
          "text": [
            "Type your name: Jones\n",
            "Jones\n"
          ]
        }
      ]
    },
    {
      "cell_type": "code",
      "source": [
        "car = rm.read_string('Type the model of your car: ')\n",
        "print(car)"
      ],
      "metadata": {
        "id": "OfJ-gdDjuADF",
        "colab": {
          "base_uri": "https://localhost:8080/"
        },
        "outputId": "60e04b57-02c5-4ff9-926b-c3a89694503f"
      },
      "execution_count": null,
      "outputs": [
        {
          "output_type": "stream",
          "name": "stdout",
          "text": [
            "Type the model of your car: bmw\n",
            "bmw\n"
          ]
        }
      ]
    },
    {
      "cell_type": "code",
      "source": [
        "number1 = rm.read_float('Type the first number: ')\n",
        "print(number1)"
      ],
      "metadata": {
        "id": "ZOhV4bzAuB2L",
        "colab": {
          "base_uri": "https://localhost:8080/"
        },
        "outputId": "37e36e7b-6176-4743-a1d5-9ab70c74b80e"
      },
      "execution_count": null,
      "outputs": [
        {
          "output_type": "stream",
          "name": "stdout",
          "text": [
            "Type the first number: 5\n",
            "5.0\n"
          ]
        }
      ]
    },
    {
      "cell_type": "code",
      "source": [
        "number2 = rm.read_float('Type the second number: ')\n",
        "print(number2)"
      ],
      "metadata": {
        "id": "8juyn8xtuEel",
        "colab": {
          "base_uri": "https://localhost:8080/"
        },
        "outputId": "d3ce81a4-8fa1-4f6e-d9ee-616d0cb35a28"
      },
      "execution_count": null,
      "outputs": [
        {
          "output_type": "stream",
          "name": "stdout",
          "text": [
            "Type the second number: 8\n",
            "8.0\n"
          ]
        }
      ]
    },
    {
      "cell_type": "code",
      "source": [
        "number1 + number2"
      ],
      "metadata": {
        "id": "NI3aRZuHzksM",
        "outputId": "a60445f8-0b40-41bf-aa2d-da0e030e94bf",
        "colab": {
          "base_uri": "https://localhost:8080/"
        }
      },
      "execution_count": null,
      "outputs": [
        {
          "output_type": "execute_result",
          "data": {
            "text/plain": [
              "13.0"
            ]
          },
          "metadata": {},
          "execution_count": 76
        }
      ]
    },
    {
      "cell_type": "markdown",
      "source": [
        "# Errors and exceptions\n",
        "\n",
        "- Create an empty list and read two float values, placing each of the values in the first positions of the list (value 1 will be in position 0 and value 2 will be in position 1). Divide the two values and handle the following exceptions:\n",
        "  - ValueError: if the user types a character\n",
        "  - ZeroDivisionError: if user enters zero\n",
        "  - IndexError: if the division is done taking into account positions that do not exist in the list\n",
        "  - KeyboardInterrupt: if the user interrupts the execution\n",
        "\n",
        "- Show a custom message when each of these errors occurs"
      ],
      "metadata": {
        "id": "AAZlO2RPbvG1"
      }
    },
    {
      "cell_type": "code",
      "source": [
        "list_of_values = []\n",
        "try:\n",
        "  list_of_values.append(float(input('Type the first value: ')))\n",
        "  list_of_values.append(float(input('Type the second value: ')))\n",
        "  division = list_of_values[0] / list_of_values[1]\n",
        "except ValueError:\n",
        "  print('Error! Invalid value')\n",
        "except ZeroDivisionError:\n",
        "  print('Error! Division by zero')\n",
        "except IndexError:\n",
        "  print('Error! Invalid index')\n",
        "except KeyboardInterrupt:\n",
        "  print('User has interrupted the execution')\n",
        "else:\n",
        "  print(f'The division is {division}')"
      ],
      "metadata": {
        "id": "aBx0pOpciH6Q",
        "colab": {
          "base_uri": "https://localhost:8080/"
        },
        "outputId": "c12c736c-010f-4c6b-eb21-4dd29b7237f3"
      },
      "execution_count": null,
      "outputs": [
        {
          "output_type": "stream",
          "name": "stdout",
          "text": [
            "Type the first value: 5\n",
            "Type the second value: 7\n",
            "The division is 0.7142857142857143\n"
          ]
        }
      ]
    },
    {
      "cell_type": "markdown",
      "source": [
        "# Text files\n",
        "\n",
        "- Consider the dictionary below (with the name of the students and their corresponding grades), create a loop to go through each element of the dictionary to write the data about the students in a new text file\n",
        "  - Each student must be in a new line of the new text file\n",
        "  - The formatation must be: name,grade (example: Peter,8.0)\n",
        "  - After creating the text file, read the file and show all students\n",
        "\n",
        "  - Dictionary example: `students = {'Peter': 8.0, 'Maria': 10.0, 'John': 7.5}`"
      ],
      "metadata": {
        "id": "V0xjbW84jIQX"
      }
    },
    {
      "cell_type": "code",
      "source": [
        "students = {'Peter': 8.0, 'Maria': 10.0, 'John': 7.5}\n",
        "students"
      ],
      "metadata": {
        "id": "3dXwmz_gj8gg",
        "colab": {
          "base_uri": "https://localhost:8080/"
        },
        "outputId": "8027b7ca-48cd-4dcd-bca0-d3cbec4d4f3c"
      },
      "execution_count": null,
      "outputs": [
        {
          "output_type": "execute_result",
          "data": {
            "text/plain": [
              "{'Peter': 8.0, 'Maria': 10.0, 'John': 7.5}"
            ]
          },
          "metadata": {},
          "execution_count": 6
        }
      ]
    },
    {
      "cell_type": "code",
      "source": [
        "with open('students.txt', 'w') as students_file:\n",
        "  for student, grade in students.items():\n",
        "    students_file.write(f'{student},{grade}\\n')"
      ],
      "metadata": {
        "id": "OLLGvAhxj-X4"
      },
      "execution_count": null,
      "outputs": []
    },
    {
      "cell_type": "code",
      "source": [
        "with open('students.txt', 'r') as students_file:\n",
        "  for row in students_file:\n",
        "    print(row)"
      ],
      "metadata": {
        "id": "Gvk-R4QHkAGc",
        "colab": {
          "base_uri": "https://localhost:8080/"
        },
        "outputId": "510016cb-8691-4a93-d93d-4e06c17c3a0d"
      },
      "execution_count": null,
      "outputs": [
        {
          "output_type": "stream",
          "name": "stdout",
          "text": [
            "Peter,8.0\n",
            "\n",
            "Maria,10.0\n",
            "\n",
            "John,7.5\n",
            "\n"
          ]
        }
      ]
    },
    {
      "cell_type": "markdown",
      "source": [
        "# Regular expressions\n",
        "\n",
        "- Create regular expressions to extract the following information from the text below (use the findall function):\n",
        "– Numbers\n",
        "– zip codes\n",
        "– URLs\n",
        "\n",
        "Text: `My house is on 78 Peter Street. The zipcode is 88388-000 and 11111-111. My website is https://www.iaexpert.academy or http://iaexpert.com.br`"
      ],
      "metadata": {
        "id": "pZqOnOvAkxRH"
      }
    },
    {
      "cell_type": "code",
      "source": [
        "text = 'My house is on 78 Peter Street. The zipcode is 88388-000 and 11111-111. My website is https://www.iaexpert.academy or http://iaexpert.com.br'"
      ],
      "metadata": {
        "id": "XAdVuIJVlUMC"
      },
      "execution_count": null,
      "outputs": []
    },
    {
      "cell_type": "code",
      "source": [
        "import re\n",
        "re.findall('\\d', text)"
      ],
      "metadata": {
        "id": "aKMugI66lY0O",
        "colab": {
          "base_uri": "https://localhost:8080/"
        },
        "outputId": "a385542b-1afb-41ce-dde0-695fec31d428"
      },
      "execution_count": null,
      "outputs": [
        {
          "output_type": "execute_result",
          "data": {
            "text/plain": [
              "['7',\n",
              " '8',\n",
              " '8',\n",
              " '8',\n",
              " '3',\n",
              " '8',\n",
              " '8',\n",
              " '0',\n",
              " '0',\n",
              " '0',\n",
              " '1',\n",
              " '1',\n",
              " '1',\n",
              " '1',\n",
              " '1',\n",
              " '1',\n",
              " '1',\n",
              " '1']"
            ]
          },
          "metadata": {},
          "execution_count": 12
        }
      ]
    },
    {
      "cell_type": "code",
      "source": [
        "re.findall('\\d{5}-\\d{3}', text)"
      ],
      "metadata": {
        "id": "7dRazR_jlcc-",
        "colab": {
          "base_uri": "https://localhost:8080/"
        },
        "outputId": "f8be3ede-9040-4305-9e3f-5e03d3c40313"
      },
      "execution_count": null,
      "outputs": [
        {
          "output_type": "execute_result",
          "data": {
            "text/plain": [
              "['88388-000', '11111-111']"
            ]
          },
          "metadata": {},
          "execution_count": 13
        }
      ]
    },
    {
      "cell_type": "code",
      "source": [
        "re.findall('https?://[A-Za-z0-9./]+', text)"
      ],
      "metadata": {
        "id": "wBJtxKpClgDP",
        "colab": {
          "base_uri": "https://localhost:8080/"
        },
        "outputId": "770af68b-85e7-4e4c-f361-e92a5e23626d"
      },
      "execution_count": null,
      "outputs": [
        {
          "output_type": "execute_result",
          "data": {
            "text/plain": [
              "['https://www.iaexpert.academy', 'http://iaexpert.com.br']"
            ]
          },
          "metadata": {},
          "execution_count": 14
        }
      ]
    },
    {
      "cell_type": "markdown",
      "source": [
        "# Object oriented\n",
        "\n",
        "- Create a class called student with the following attributes:\n",
        "  - Name\n",
        "  - Grade 1\n",
        "  - Grade 2\n",
        "- Create a constructor for the class (__init__)\n",
        "\n",
        "- Create the following methods:\n",
        "  - Calculates average (returns the average of the grades)\n",
        "  - Show data (only prints the value of all attributes)\n",
        "  - Result (verifies if the student is approved or failed - if the average is greater or equal to 6.0 the student is approved; otherwise, he/she is failed)\n",
        "\n",
        "- Create two objects (student1 and student2) to perform the tests"
      ],
      "metadata": {
        "id": "v1i0EqadmSoV"
      }
    },
    {
      "cell_type": "code",
      "source": [
        "class Student:\n",
        "  def __init__(self, name, grade1, grade2):\n",
        "    self.name = name\n",
        "    self.grade1 = grade1\n",
        "    self.grade2 = grade2\n",
        "    self.average = 0.0\n",
        "\n",
        "  def calculate_average(self):\n",
        "    self.average = (self.grade1 + self.grade2) / 2\n",
        "    return self.average\n",
        "\n",
        "  def show_data(self):\n",
        "    print('Name: ', self.name)\n",
        "    print('Grade 1:', self.grade1)\n",
        "    print('Grade 2:', self.grade2)\n",
        "    print('Average:', self.average)\n",
        "\n",
        "  def result(self):\n",
        "    if self.average >= 6.0:\n",
        "      print('Approved')\n",
        "    else:\n",
        "      print('Failed')"
      ],
      "metadata": {
        "id": "kQXmfAhnnB9g"
      },
      "execution_count": null,
      "outputs": []
    },
    {
      "cell_type": "code",
      "source": [
        "student1 = Student('Peter', 7.0, 9.0)\n",
        "average = student1.calculate_average()\n",
        "print(average)"
      ],
      "metadata": {
        "id": "gdMKPHV3ngiA",
        "colab": {
          "base_uri": "https://localhost:8080/"
        },
        "outputId": "75f458d1-b0c9-4d31-8380-aba11d3effc9"
      },
      "execution_count": null,
      "outputs": [
        {
          "output_type": "stream",
          "name": "stdout",
          "text": [
            "8.0\n"
          ]
        }
      ]
    },
    {
      "cell_type": "code",
      "source": [
        "student1.show_data()"
      ],
      "metadata": {
        "id": "_dfAK5kFnqgG",
        "colab": {
          "base_uri": "https://localhost:8080/"
        },
        "outputId": "9c651426-5532-442f-840e-9e4fce9b51c0"
      },
      "execution_count": null,
      "outputs": [
        {
          "output_type": "stream",
          "name": "stdout",
          "text": [
            "Name:  Peter\n",
            "Grade 1: 7.0\n",
            "Grade 2: 9.0\n",
            "Average: 8.0\n"
          ]
        }
      ]
    },
    {
      "cell_type": "code",
      "source": [
        "student1.result()"
      ],
      "metadata": {
        "id": "OaTi2tEXntV4",
        "colab": {
          "base_uri": "https://localhost:8080/"
        },
        "outputId": "9af5a12f-8f7d-4219-ab1e-0baa678a2625"
      },
      "execution_count": null,
      "outputs": [
        {
          "output_type": "stream",
          "name": "stdout",
          "text": [
            "Approved\n"
          ]
        }
      ]
    },
    {
      "cell_type": "code",
      "source": [
        "student2 = Student('John', 7.0, 2.0)\n",
        "average = student2.calculate_average()\n",
        "student2.show_data()\n",
        "student2.result()"
      ],
      "metadata": {
        "id": "LBA9iJWYnzlF",
        "colab": {
          "base_uri": "https://localhost:8080/"
        },
        "outputId": "c5f20ff8-aeef-4ab1-f6e3-0eb70aee8239"
      },
      "execution_count": null,
      "outputs": [
        {
          "output_type": "stream",
          "name": "stdout",
          "text": [
            "Name:  John\n",
            "Grade 1: 7.0\n",
            "Grade 2: 2.0\n",
            "Average: 4.5\n",
            "Failed\n"
          ]
        }
      ]
    }
  ]
}