{
  "nbformat": 4,
  "nbformat_minor": 0,
  "metadata": {
    "colab": {
      "provenance": [],
      "include_colab_link": true
    },
    "kernelspec": {
      "name": "python3",
      "display_name": "Python 3"
    }
  },
  "cells": [
    {
      "cell_type": "markdown",
      "metadata": {
        "id": "view-in-github",
        "colab_type": "text"
      },
      "source": [
        "<a href=\"https://colab.research.google.com/github/lodxdy/AI-ML/blob/main/AI_and_ML_Complete_Guide_Greedy_Search.ipynb\" target=\"_parent\"><img src=\"https://colab.research.google.com/assets/colab-badge.svg\" alt=\"Open In Colab\"/></a>"
      ]
    },
    {
      "cell_type": "markdown",
      "metadata": {
        "id": "r2ZZwVzmSD9w"
      },
      "source": [
        "# Greedy Search"
      ]
    },
    {
      "cell_type": "markdown",
      "metadata": {
        "id": "PgOWgXWsNWEr"
      },
      "source": [
        "## Graph"
      ]
    },
    {
      "cell_type": "code",
      "source": [
        "class Vertex:\n",
        "\n",
        "  def __init__(self, label, distance_objective):\n",
        "    self.label = label\n",
        "    self.visited = False\n",
        "    self.distance_objective = distance_objective\n",
        "    self.adjacent = []\n",
        "\n",
        "  def add_adjacent(self, adjacent):\n",
        "    self.adjacent.append(adjacent)\n",
        "\n",
        "  def print_adjacent(self):\n",
        "    for i in self.adjacent:\n",
        "      print(i.vertex.label, i.cost)"
      ],
      "metadata": {
        "id": "xQMzZLBfjGL9"
      },
      "execution_count": null,
      "outputs": []
    },
    {
      "cell_type": "code",
      "source": [
        "class Adjacent:\n",
        "  def __init__(self, vertex, cost):\n",
        "    self.vertex = vertex\n",
        "    self.cost = cost"
      ],
      "metadata": {
        "id": "oQlaCIdukpW0"
      },
      "execution_count": null,
      "outputs": []
    },
    {
      "cell_type": "code",
      "source": [
        "class Graph:\n",
        "  arad = Vertex('Arad', 366)\n",
        "  zerind = Vertex('Zerind', 374)\n",
        "  oradea = Vertex('Oradea', 380)\n",
        "  sibiu = Vertex('Sibiu', 253)\n",
        "  timisoara = Vertex('Timisoara', 329)\n",
        "  lugoj = Vertex('Lugoj', 244)\n",
        "  mehadia = Vertex('Mehadia', 241)\n",
        "  dobreta = Vertex('Dobreta', 242)\n",
        "  craiova = Vertex('Craiova', 160)\n",
        "  rimnicu = Vertex('Rimnicu', 193)\n",
        "  fagaras = Vertex('Fagaras', 178)\n",
        "  pitesti = Vertex('Pitesti', 98)\n",
        "  bucharest = Vertex('Bucharest', 0)\n",
        "  giurgiu = Vertex('Giurgiu', 77)\n",
        "\n",
        "  arad.add_adjacent(Adjacent(zerind, 75))\n",
        "  arad.add_adjacent(Adjacent(sibiu, 140))\n",
        "  arad.add_adjacent(Adjacent(timisoara, 118))\n",
        "\n",
        "  zerind.add_adjacent(Adjacent(arad, 75))\n",
        "  zerind.add_adjacent(Adjacent(oradea, 71))\n",
        "\n",
        "  oradea.add_adjacent(Adjacent(zerind, 71))\n",
        "  oradea.add_adjacent(Adjacent(sibiu, 151))\n",
        "\n",
        "  sibiu.add_adjacent(Adjacent(oradea, 151))\n",
        "  sibiu.add_adjacent(Adjacent(arad, 140))\n",
        "  sibiu.add_adjacent(Adjacent(fagaras, 99))\n",
        "  sibiu.add_adjacent(Adjacent(rimnicu, 80))\n",
        "\n",
        "  timisoara.add_adjacent(Adjacent(arad, 118))\n",
        "  timisoara.add_adjacent(Adjacent(lugoj, 111))\n",
        "\n",
        "  lugoj.add_adjacent(Adjacent(timisoara, 111))\n",
        "  lugoj.add_adjacent(Adjacent(mehadia, 70))\n",
        "\n",
        "  mehadia.add_adjacent(Adjacent(lugoj, 70))\n",
        "  mehadia.add_adjacent(Adjacent(dobreta, 75))\n",
        "\n",
        "  dobreta.add_adjacent(Adjacent(mehadia, 75))\n",
        "  dobreta.add_adjacent(Adjacent(craiova, 120))\n",
        "\n",
        "  craiova.add_adjacent(Adjacent(dobreta, 120))\n",
        "  craiova.add_adjacent(Adjacent(pitesti, 138))\n",
        "  craiova.add_adjacent(Adjacent(rimnicu, 146))\n",
        "\n",
        "  rimnicu.add_adjacent(Adjacent(craiova, 146))\n",
        "  rimnicu.add_adjacent(Adjacent(sibiu, 80))\n",
        "  rimnicu.add_adjacent(Adjacent(pitesti, 97))\n",
        "\n",
        "  fagaras.add_adjacent(Adjacent(sibiu, 99))\n",
        "  fagaras.add_adjacent(Adjacent(bucharest, 211))\n",
        "\n",
        "  pitesti.add_adjacent(Adjacent(rimnicu, 97))\n",
        "  pitesti.add_adjacent(Adjacent(craiova, 138))\n",
        "  pitesti.add_adjacent(Adjacent(bucharest, 101))\n",
        "\n",
        "  bucharest.add_adjacent(Adjacent(fagaras, 211))\n",
        "  bucharest.add_adjacent(Adjacent(pitesti, 101))\n",
        "  bucharest.add_adjacent(Adjacent(giurgiu, 90))"
      ],
      "metadata": {
        "id": "igwHckmOk4ls"
      },
      "execution_count": null,
      "outputs": []
    },
    {
      "cell_type": "code",
      "source": [
        "graph = Graph()"
      ],
      "metadata": {
        "id": "97egJt8_m5gV"
      },
      "execution_count": null,
      "outputs": []
    },
    {
      "cell_type": "markdown",
      "metadata": {
        "id": "aIjre2EzLXB0"
      },
      "source": [
        "## Ordered array"
      ]
    },
    {
      "cell_type": "code",
      "source": [
        "import numpy as np\n",
        "class OrderedArray:\n",
        "\n",
        "  def __init__(self, capacity):\n",
        "    self.capacity = capacity\n",
        "    self.last_position = -1\n",
        "    self.values = np.empty(self.capacity, dtype=object)\n",
        "\n",
        "  def print(self):\n",
        "    if self.last_position == -1:\n",
        "      print('The array is empty!')\n",
        "    else:\n",
        "      for i in range(self.last_position + 1):\n",
        "        print(i, ' - ', self.values[i].label, ' - ', self.values[i].distance_objective)\n",
        "\n",
        "  def insert(self, vertex):\n",
        "    if self.last_position == self.capacity - 1:\n",
        "      print('Maximum capacity has been reached!')\n",
        "      return\n",
        "\n",
        "    position = 0\n",
        "    for i in range(self.last_position + 1):\n",
        "      position = i\n",
        "      if self.values[i].distance_objective > vertex.distance_objective:\n",
        "        break\n",
        "      if i == self.last_position:\n",
        "        position = i + 1\n",
        "\n",
        "    x = self.last_position\n",
        "    while x >= position:\n",
        "      self.values[x + 1] = self.values[x]\n",
        "      x -= 1\n",
        "\n",
        "    self.values[x + 1] = vertex\n",
        "    self.last_position += 1"
      ],
      "metadata": {
        "id": "1t_wHOTJnF8h"
      },
      "execution_count": null,
      "outputs": []
    },
    {
      "cell_type": "code",
      "source": [
        "array = OrderedArray(5)\n",
        "array.insert(graph.arad)\n",
        "array.insert(graph.craiova)\n",
        "array.insert(graph.bucharest)\n",
        "array.insert(graph.dobreta)"
      ],
      "metadata": {
        "id": "WNzFfBMLoDQ6"
      },
      "execution_count": null,
      "outputs": []
    },
    {
      "cell_type": "code",
      "source": [
        "array.print()"
      ],
      "metadata": {
        "colab": {
          "base_uri": "https://localhost:8080/"
        },
        "id": "b9NoXCndoLZb",
        "outputId": "91aa5814-2505-4bda-de0a-ac8d97a331c3"
      },
      "execution_count": null,
      "outputs": [
        {
          "output_type": "stream",
          "name": "stdout",
          "text": [
            "0  -  Bucharest  -  0\n",
            "1  -  Craiova  -  160\n",
            "2  -  Dobreta  -  242\n",
            "3  -  Arad  -  366\n"
          ]
        }
      ]
    },
    {
      "cell_type": "code",
      "source": [
        "print(array), array.values[0].label, array.values[1].label"
      ],
      "metadata": {
        "colab": {
          "base_uri": "https://localhost:8080/"
        },
        "id": "xjEOu8BAorCR",
        "outputId": "07ce2423-904e-4e58-c314-da8f563df9e0"
      },
      "execution_count": null,
      "outputs": [
        {
          "output_type": "stream",
          "name": "stdout",
          "text": [
            "<__main__.OrderedArray object at 0x7891b772fa90>\n"
          ]
        },
        {
          "output_type": "execute_result",
          "data": {
            "text/plain": [
              "(None, 'Bucharest', 'Craiova')"
            ]
          },
          "metadata": {},
          "execution_count": 21
        }
      ]
    },
    {
      "cell_type": "markdown",
      "metadata": {
        "id": "Lmvbw_KeNYvX"
      },
      "source": [
        "## Greedy search"
      ]
    },
    {
      "cell_type": "code",
      "source": [
        "class Greedy:\n",
        "  def __init__(self, objective):\n",
        "    self.objective = objective\n",
        "    self.found = False\n",
        "\n",
        "  def search(self, current):\n",
        "    print('--------')\n",
        "    print('Current: {}'.format(current.label))\n",
        "    current.visited = True\n",
        "\n",
        "    if current == self.objective:\n",
        "      self.found = True\n",
        "    else:\n",
        "      ordered_array = OrderedArray(len(current.adjacent))\n",
        "      for adjacent in current.adjacent:\n",
        "        if adjacent.vertex.visited == False:\n",
        "          adjacent.vertex.visited = True\n",
        "          ordered_array.insert(adjacent.vertex)\n",
        "      ordered_array.print()\n",
        "\n",
        "      if ordered_array.values[0] != None:\n",
        "        self.search(ordered_array.values[0])"
      ],
      "metadata": {
        "id": "i_0rYoNMr8ea"
      },
      "execution_count": null,
      "outputs": []
    },
    {
      "cell_type": "code",
      "source": [
        "greedy_search = Greedy(graph.bucharest)\n",
        "greedy_search.search(graph.arad)"
      ],
      "metadata": {
        "colab": {
          "base_uri": "https://localhost:8080/"
        },
        "id": "aTWf6kRpunst",
        "outputId": "7cd94531-a315-4994-8887-5fbd46ce0d38"
      },
      "execution_count": null,
      "outputs": [
        {
          "output_type": "stream",
          "name": "stdout",
          "text": [
            "--------\n",
            "Current: Arad\n",
            "0  -  Sibiu  -  253\n",
            "1  -  Timisoara  -  329\n",
            "2  -  Zerind  -  374\n",
            "--------\n",
            "Current: Sibiu\n",
            "0  -  Fagaras  -  178\n",
            "1  -  Rimnicu  -  193\n",
            "2  -  Oradea  -  380\n",
            "--------\n",
            "Current: Fagaras\n",
            "0  -  Bucharest  -  0\n",
            "--------\n",
            "Current: Bucharest\n"
          ]
        }
      ]
    }
  ]
}